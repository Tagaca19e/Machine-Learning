{
 "cells": [
  {
   "cell_type": "code",
   "execution_count": 57,
   "id": "cd462255",
   "metadata": {},
   "outputs": [
    {
     "data": {
      "text/plain": [
       "array(['HipHop'], dtype=object)"
      ]
     },
     "execution_count": 57,
     "metadata": {},
     "output_type": "execute_result"
    }
   ],
   "source": [
    "#Our model will determine for what type of msic the user listens to\n",
    "#It will have the pass data and will base it off of that data to give a prediction\n",
    "\n",
    "#the data set\n",
    "# gender 1 = male, 0 = female\n",
    "\n",
    "\n",
    "import pandas as pd\n",
    "from sklearn.tree import DecisionTreeClassifier\n",
    "from sklearn.model_selection import train_test_split\n",
    "#for calculating the accurace of our algorithm\n",
    "from sklearn.metrics import accuracy_score\n",
    "import joblib\n",
    "\n",
    "\n",
    "# df = pd.read_csv('music.csv')\n",
    "# x= df.drop(columns=['genre'])\n",
    "# y = df['genre']\n",
    "# #this will spit out 4 var 1 test input, 1 train input, 1 test output, 1 train output\n",
    "# xTrain, xTest, yTrain, yTest = train_test_split(x, y, test_size = 0.5)\n",
    "# model = DecisionTreeClassifier()\n",
    "# model.fit(x, y)\n",
    "\n",
    "\n",
    "#we will store the trained data to a file\n",
    "\n",
    "model = joblib.load('trainedData.joblib')\n",
    "\n",
    "\n",
    "model.predict([[21, 1]])\n",
    "#prediction = model.predict([[21 ,1]])\n",
    "#to ask the machine\n",
    "#prediction = model.predict([[inpuHere]])\n",
    "#res = accuracy_score(yTest, predictions) #returns accuracy score of 0-1\n",
    "\n",
    "\n",
    "\n",
    "\n",
    "\n",
    "\n",
    "#prediction\n",
    "#test your data set by inputing your original data then comparing predictions with the actual result"
   ]
  },
  {
   "cell_type": "code",
   "execution_count": 60,
   "id": "1d2a1c17",
   "metadata": {},
   "outputs": [],
   "source": [
    "import pandas as pd\n",
    "from sklearn.tree import DecisionTreeClassifier\n",
    "from sklearn import tree\n",
    "\n",
    "df = pd.read_csv('music.csv')\n",
    "\n",
    "algo = DecisionTreeClassifier()\n",
    "\n",
    "x = df.drop(columns='genre')\n",
    "y = df['genre']\n",
    "\n",
    "algo.fit(x, y)\n",
    "\n",
    "tree.export_graphviz(algo, out_file='tree.dot', feature_names=['age', 'gender'], class_names=sorted(y.unique()), label='all', rounded=True, filled=True)"
   ]
  },
  {
   "cell_type": "code",
   "execution_count": null,
   "id": "baeec478",
   "metadata": {},
   "outputs": [],
   "source": []
  }
 ],
 "metadata": {
  "kernelspec": {
   "display_name": "Python 3 (ipykernel)",
   "language": "python",
   "name": "python3"
  },
  "language_info": {
   "codemirror_mode": {
    "name": "ipython",
    "version": 3
   },
   "file_extension": ".py",
   "mimetype": "text/x-python",
   "name": "python",
   "nbconvert_exporter": "python",
   "pygments_lexer": "ipython3",
   "version": "3.9.7"
  }
 },
 "nbformat": 4,
 "nbformat_minor": 5
}

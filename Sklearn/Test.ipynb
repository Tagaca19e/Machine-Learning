{
 "cells": [
  {
   "cell_type": "code",
   "execution_count": 16,
   "id": "2bb7ff5c",
   "metadata": {},
   "outputs": [
    {
     "data": {
      "text/plain": [
       "['testData.joblib']"
      ]
     },
     "execution_count": 16,
     "metadata": {},
     "output_type": "execute_result"
    }
   ],
   "source": [
    "import pandas as pd\n",
    "\n",
    "#import our algo\n",
    "\n",
    "from sklearn.tree import DecisionTreeClassifier\n",
    "\n",
    "from sklearn.model_selection import train_test_split \n",
    "\n",
    "from sklearn.metrics import accuracy_score\n",
    "\n",
    "import joblib\n",
    "\n",
    "df = pd.read_csv('music.csv')\n",
    "model = DecisionTreeClassifier()\n",
    "#x = input\n",
    "x = df.drop(columns=['genre'])\n",
    "y = df['genre']\n",
    "\n",
    "xTrain, xTest, yTrain, yTest= train_test_split(x,y,test_size = 0.2 )\n",
    "\n",
    "model.fit(xTrain, yTrain)\n",
    "\n",
    "joblib.dump(model, 'testData.joblib')\n",
    "\n",
    "# predictions = model.predict(xTest)\n",
    "\n",
    "# res = accuracy_score(yTest, predictions)\n",
    "# res"
   ]
  },
  {
   "cell_type": "code",
   "execution_count": 17,
   "id": "cd1c125e",
   "metadata": {},
   "outputs": [
    {
     "data": {
      "text/plain": [
       "array(['HipHop'], dtype=object)"
      ]
     },
     "execution_count": 17,
     "metadata": {},
     "output_type": "execute_result"
    }
   ],
   "source": [
    "import joblib\n",
    "\n",
    "\n",
    "model = joblib.load('testData.joblib')\n",
    "\n",
    "model.predict([[22, 1]])"
   ]
  },
  {
   "cell_type": "code",
   "execution_count": null,
   "id": "89815613",
   "metadata": {},
   "outputs": [],
   "source": []
  }
 ],
 "metadata": {
  "kernelspec": {
   "display_name": "Python 3 (ipykernel)",
   "language": "python",
   "name": "python3"
  },
  "language_info": {
   "codemirror_mode": {
    "name": "ipython",
    "version": 3
   },
   "file_extension": ".py",
   "mimetype": "text/x-python",
   "name": "python",
   "nbconvert_exporter": "python",
   "pygments_lexer": "ipython3",
   "version": "3.9.7"
  }
 },
 "nbformat": 4,
 "nbformat_minor": 5
}

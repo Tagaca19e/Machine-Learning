{
  "nbformat": 4,
  "nbformat_minor": 0,
  "metadata": {
    "colab": {
      "name": "LinearRegression(SKLEARN).ipynb",
      "provenance": []
    },
    "kernelspec": {
      "name": "python3",
      "display_name": "Python 3"
    },
    "language_info": {
      "name": "python"
    }
  },
  "cells": [
    {
      "cell_type": "code",
      "execution_count": 31,
      "metadata": {
        "colab": {
          "base_uri": "https://localhost:8080/"
        },
        "id": "UYNqIUB4v2a4",
        "outputId": "2ec8f9c8-a4e8-4c86-fa3a-4e470605783c"
      },
      "outputs": [
        {
          "output_type": "stream",
          "name": "stdout",
          "text": [
            "(627, 18)\n",
            "(264, 18)\n",
            "0.7689393939393939\n"
          ]
        }
      ],
      "source": [
        "import pandas as pd\n",
        "import numpy as np\n",
        "from sklearn.linear_model import LinearRegression\n",
        "from sklearn.metrics import accuracy_score\n",
        "from sklearn.model_selection import train_test_split\n",
        "from sklearn import *\n",
        "\n",
        "xTrain = pd.read_csv('https://storage.googleapis.com/tf-datasets/titanic/train.csv')\n",
        "\n",
        "xTest = pd.read_csv('https://storage.googleapis.com/tf-datasets/titanic/eval.csv')\n",
        "\n",
        "\n",
        "X = xTrain[['survived', 'sex', 'age', 'n_siblings_spouses', 'parch', 'fare',  'class', 'deck', 'embark_town', 'alone']]\n",
        "X2 = xTest[['survived', 'sex', 'age', 'n_siblings_spouses', 'parch', 'fare',  'class', 'deck', 'embark_town', 'alone']]\n",
        "\n",
        "\n",
        "xTrain = pd.get_dummies(data=X, drop_first=True)\n",
        "xTest = pd.get_dummies(data=X2, drop_first=True)\n",
        "# print(xTrain)\n",
        "\n",
        "\n",
        "yTrain = xTrain['survived']\n",
        "yTest = xTest['survived']\n",
        "\n",
        "\n",
        "\n",
        "xTrain = xTrain.drop(columns='survived')\n",
        "xTest = xTest.drop(columns='survived')\n",
        "\n",
        "xTest = xTest.reindex(labels=xTrain.columns, fill_value = 0, axis=1)\n",
        "\n",
        "\n",
        "\n",
        "model = LinearRegression()\n",
        "\n",
        "\n",
        "\n",
        "\n",
        "# print(xTrain)\n",
        "\n",
        "model.fit(xTrain, yTrain)\n",
        "\n",
        "\n",
        "print(xTrain.shape)\n",
        "\n",
        "print(xTest.shape)\n",
        "\n",
        "predictions = model.predict(xTest)\n",
        "\n",
        "\n",
        "predictions\n",
        "\n",
        "\n",
        "counter = 0\n",
        "for i in range(len(predictions)):\n",
        "\n",
        "  \n",
        "  res = 0\n",
        "  if predictions[i] >= 0.5:\n",
        "    res = 1\n",
        "  if res == yTest.iloc[i]:\n",
        "    counter += 1\n",
        "\n",
        "accuracy = counter / len(yTest)\n",
        "\n",
        "print(accuracy)\n"
      ]
    },
    {
      "cell_type": "code",
      "source": [
        "import pandas as pd\n",
        "import numpy as np\n",
        "from sklearn.linear_model import LinearRegression\n",
        "from sklearn.metrics import accuracy_score\n",
        "from sklearn.model_selection import train_test_split\n",
        "from sklearn import *\n",
        "\n",
        "df = pd.read_csv('https://storage.googleapis.com/tf-datasets/titanic/train.csv')\n",
        "\n",
        "\n",
        "X = df[['survived', 'sex', 'age', 'n_siblings_spouses', 'parch', 'fare',  'class', 'deck', 'embark_town', 'alone']]\n",
        "\n",
        "\n",
        "\n",
        "\n",
        "df = pd.get_dummies(data=X, drop_first = True)\n",
        "yDf = df['survived']\n",
        "df = df.drop(columns='survived')\n",
        "\n",
        "xTrain, xTest, yTrain, yTest = train_test_split(df, yDf, test_size= 0.2)\n",
        "\n",
        "\n",
        "\n",
        "model = LinearRegression()\n",
        "\n",
        "\n",
        "model.fit(xTrain, yTrain)\n",
        "\n",
        "\n",
        "predictions = model.predict(xTest)\n",
        "\n",
        "\n",
        "counter = 0\n",
        "for i in range(len(predictions)):\n",
        "\n",
        "  \n",
        "  res = 0\n",
        "  if predictions[i] >= 0.5:\n",
        "    res = 1\n",
        "  if res == yTest.iloc[i]:\n",
        "    counter += 1\n",
        "\n",
        "accuracy = counter / len(yTest)\n",
        "\n",
        "print(accuracy)\n",
        "# print(xTrain)\n",
        "\n",
        "#df.iloc[idx] -> to get the value"
      ],
      "metadata": {
        "colab": {
          "base_uri": "https://localhost:8080/"
        },
        "id": "Yb7dib5z0vIh",
        "outputId": "464f3fbf-f687-42fe-f467-ef0cd1f0e5ee"
      },
      "execution_count": 62,
      "outputs": [
        {
          "output_type": "stream",
          "name": "stdout",
          "text": [
            "0.8571428571428571\n"
          ]
        }
      ]
    }
  ]
}
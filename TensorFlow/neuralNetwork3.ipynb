{
  "nbformat": 4,
  "nbformat_minor": 0,
  "metadata": {
    "colab": {
      "name": "neuralNetwork3.ipynb",
      "provenance": []
    },
    "kernelspec": {
      "name": "python3",
      "display_name": "Python 3"
    },
    "language_info": {
      "name": "python"
    }
  },
  "cells": [
    {
      "cell_type": "code",
      "execution_count": null,
      "metadata": {
        "colab": {
          "base_uri": "https://localhost:8080/"
        },
        "id": "IGkgiR7YHU2M",
        "outputId": "30bfd49e-27df-43e7-e411-96b601eebe31"
      },
      "outputs": [
        {
          "output_type": "stream",
          "name": "stderr",
          "text": [
            "/usr/local/lib/python3.7/dist-packages/keras/optimizer_v2/adam.py:105: UserWarning: The `lr` argument is deprecated, use `learning_rate` instead.\n",
            "  super(Adam, self).__init__(name, **kwargs)\n"
          ]
        },
        {
          "output_type": "stream",
          "name": "stdout",
          "text": [
            "Epoch 1/50\n",
            "2/2 [==============================] - 0s 7ms/step - loss: 92.3945 - mae: 92.3945\n",
            "Epoch 2/50\n",
            "2/2 [==============================] - 0s 4ms/step - loss: 29.5574 - mae: 29.5574\n",
            "Epoch 3/50\n",
            "2/2 [==============================] - 0s 6ms/step - loss: 21.1926 - mae: 21.1926\n",
            "Epoch 4/50\n",
            "2/2 [==============================] - 0s 5ms/step - loss: 18.4279 - mae: 18.4279\n",
            "Epoch 5/50\n",
            "2/2 [==============================] - 0s 4ms/step - loss: 9.0376 - mae: 9.0376\n",
            "Epoch 6/50\n",
            "2/2 [==============================] - 0s 5ms/step - loss: 18.3019 - mae: 18.3019\n",
            "Epoch 7/50\n",
            "2/2 [==============================] - 0s 6ms/step - loss: 16.4916 - mae: 16.4916\n",
            "Epoch 8/50\n",
            "2/2 [==============================] - 0s 5ms/step - loss: 7.6728 - mae: 7.6728\n",
            "Epoch 9/50\n",
            "2/2 [==============================] - 0s 5ms/step - loss: 12.3838 - mae: 12.3838\n",
            "Epoch 10/50\n",
            "2/2 [==============================] - 0s 4ms/step - loss: 14.7893 - mae: 14.7893\n",
            "Epoch 11/50\n",
            "2/2 [==============================] - 0s 4ms/step - loss: 9.7322 - mae: 9.7322\n",
            "Epoch 12/50\n",
            "2/2 [==============================] - 0s 6ms/step - loss: 6.0172 - mae: 6.0172\n",
            "Epoch 13/50\n",
            "2/2 [==============================] - 0s 4ms/step - loss: 8.0128 - mae: 8.0128\n",
            "Epoch 14/50\n",
            "2/2 [==============================] - 0s 6ms/step - loss: 5.0502 - mae: 5.0502\n",
            "Epoch 15/50\n",
            "2/2 [==============================] - 0s 7ms/step - loss: 6.6394 - mae: 6.6394\n",
            "Epoch 16/50\n",
            "2/2 [==============================] - 0s 4ms/step - loss: 5.6924 - mae: 5.6924\n",
            "Epoch 17/50\n",
            "2/2 [==============================] - 0s 4ms/step - loss: 3.7191 - mae: 3.7191\n",
            "Epoch 18/50\n",
            "2/2 [==============================] - 0s 6ms/step - loss: 3.1740 - mae: 3.1740\n",
            "Epoch 19/50\n",
            "2/2 [==============================] - 0s 6ms/step - loss: 3.8642 - mae: 3.8642\n",
            "Epoch 20/50\n",
            "2/2 [==============================] - 0s 5ms/step - loss: 2.3293 - mae: 2.3293\n",
            "Epoch 21/50\n",
            "2/2 [==============================] - 0s 4ms/step - loss: 3.4675 - mae: 3.4675\n",
            "Epoch 22/50\n",
            "2/2 [==============================] - 0s 4ms/step - loss: 1.9096 - mae: 1.9096\n",
            "Epoch 23/50\n",
            "2/2 [==============================] - 0s 4ms/step - loss: 1.1351 - mae: 1.1351\n",
            "Epoch 24/50\n",
            "2/2 [==============================] - 0s 4ms/step - loss: 6.0800 - mae: 6.0800\n",
            "Epoch 25/50\n",
            "2/2 [==============================] - 0s 8ms/step - loss: 2.8933 - mae: 2.8933\n",
            "Epoch 26/50\n",
            "2/2 [==============================] - 0s 6ms/step - loss: 4.0457 - mae: 4.0457\n",
            "Epoch 27/50\n",
            "2/2 [==============================] - 0s 4ms/step - loss: 1.0811 - mae: 1.0811\n",
            "Epoch 28/50\n",
            "2/2 [==============================] - 0s 5ms/step - loss: 1.5124 - mae: 1.5124\n",
            "Epoch 29/50\n",
            "2/2 [==============================] - 0s 6ms/step - loss: 1.4477 - mae: 1.4477\n",
            "Epoch 30/50\n",
            "2/2 [==============================] - 0s 7ms/step - loss: 0.9688 - mae: 0.9688\n",
            "Epoch 31/50\n",
            "2/2 [==============================] - 0s 4ms/step - loss: 1.0817 - mae: 1.0817\n",
            "Epoch 32/50\n",
            "2/2 [==============================] - 0s 4ms/step - loss: 2.5206 - mae: 2.5206\n",
            "Epoch 33/50\n",
            "2/2 [==============================] - 0s 7ms/step - loss: 1.3437 - mae: 1.3437\n",
            "Epoch 34/50\n",
            "2/2 [==============================] - 0s 4ms/step - loss: 3.8481 - mae: 3.8481\n",
            "Epoch 35/50\n",
            "2/2 [==============================] - 0s 3ms/step - loss: 1.5345 - mae: 1.5345\n",
            "Epoch 36/50\n",
            "2/2 [==============================] - 0s 10ms/step - loss: 4.5697 - mae: 4.5697\n",
            "Epoch 37/50\n",
            "2/2 [==============================] - 0s 6ms/step - loss: 1.0279 - mae: 1.0279\n",
            "Epoch 38/50\n",
            "2/2 [==============================] - 0s 10ms/step - loss: 6.4917 - mae: 6.4917\n",
            "Epoch 39/50\n",
            "2/2 [==============================] - 0s 6ms/step - loss: 5.2262 - mae: 5.2262\n",
            "Epoch 40/50\n",
            "2/2 [==============================] - 0s 5ms/step - loss: 1.3346 - mae: 1.3346\n",
            "Epoch 41/50\n",
            "2/2 [==============================] - 0s 8ms/step - loss: 2.0845 - mae: 2.0845\n",
            "Epoch 42/50\n",
            "2/2 [==============================] - 0s 8ms/step - loss: 3.6343 - mae: 3.6343\n",
            "Epoch 43/50\n",
            "2/2 [==============================] - 0s 7ms/step - loss: 4.4909 - mae: 4.4909\n",
            "Epoch 44/50\n",
            "2/2 [==============================] - 0s 6ms/step - loss: 0.8341 - mae: 0.8341\n",
            "Epoch 45/50\n",
            "2/2 [==============================] - 0s 4ms/step - loss: 1.5595 - mae: 1.5595\n",
            "Epoch 46/50\n",
            "2/2 [==============================] - 0s 4ms/step - loss: 0.4143 - mae: 0.4143\n",
            "Epoch 47/50\n",
            "2/2 [==============================] - 0s 4ms/step - loss: 0.8089 - mae: 0.8089\n",
            "Epoch 48/50\n",
            "2/2 [==============================] - 0s 5ms/step - loss: 2.8571 - mae: 2.8571\n",
            "Epoch 49/50\n",
            "2/2 [==============================] - 0s 6ms/step - loss: 1.5352 - mae: 1.5352\n",
            "Epoch 50/50\n",
            "2/2 [==============================] - 0s 12ms/step - loss: 1.6278 - mae: 1.6278\n"
          ]
        },
        {
          "output_type": "execute_result",
          "data": {
            "text/plain": [
              "<keras.callbacks.History at 0x7fb6dd013d90>"
            ]
          },
          "metadata": {},
          "execution_count": 72
        }
      ],
      "source": [
        "import tensorflow as tf\n",
        "import matplotlib.pyplot as plt\n",
        "\n",
        "\n",
        "X = tf.range(-100, 100, 4)\n",
        "\n",
        "# X = tf.reshape(df, shape=[50,1])\n",
        "\n",
        "Y = tf.add(df, 10)\n",
        "\n",
        "\n",
        "xTrain = X[:40]\n",
        "xTest = X[40:]\n",
        "\n",
        "yTrain = Y[:40]\n",
        "yTest = Y[40:]\n",
        "\n",
        "model = tf.keras.Sequential([\n",
        "        tf.keras.layers.Dense(10, activation=None, input_shape=[1], name=\"input_layer\"),\n",
        "        # tf.keras.layers.Dense(3, activation=None, input_shape=[1], name=\"input2_layer\"),\n",
        "        tf.keras.layers.Dense(1, name = \"output_layer\")\n",
        "], name = \"model_1\")\n",
        "\n",
        "\n",
        "model.compile(loss=tf.keras.losses.mae,\n",
        "              optimizer=tf.keras.optimizers.Adam(lr=0.1),\n",
        "              metrics=['mae'])\n",
        "\n",
        "model.fit(xTrain, yTrain, epochs=50, verbose=1)\n",
        "\n",
        "\n",
        "\n",
        "\n",
        "#Dense is how many lines are connected\n",
        "\n",
        "\n",
        "\n"
      ]
    },
    {
      "cell_type": "code",
      "source": [
        "model.summary()"
      ],
      "metadata": {
        "colab": {
          "base_uri": "https://localhost:8080/"
        },
        "id": "nKK9B9WUUWeT",
        "outputId": "70ecc3fd-fd70-4958-8a12-4009f86eb1d9"
      },
      "execution_count": null,
      "outputs": [
        {
          "output_type": "stream",
          "name": "stdout",
          "text": [
            "Model: \"model_1\"\n",
            "_________________________________________________________________\n",
            " Layer (type)                Output Shape              Param #   \n",
            "=================================================================\n",
            " input_layer (Dense)         (None, 10)                20        \n",
            "                                                                 \n",
            " output_layer (Dense)        (None, 1)                 11        \n",
            "                                                                 \n",
            "=================================================================\n",
            "Total params: 31\n",
            "Trainable params: 31\n",
            "Non-trainable params: 0\n",
            "_________________________________________________________________\n"
          ]
        }
      ]
    },
    {
      "cell_type": "code",
      "source": [
        "from tensorflow.keras.utils import plot_model\n",
        "\n",
        "plot_model(model=model, show_shapes=True)"
      ],
      "metadata": {
        "colab": {
          "base_uri": "https://localhost:8080/",
          "height": 312
        },
        "id": "Ziz3zzAST1Hl",
        "outputId": "6d0d5bc5-d4db-4dd3-962c-2b483be50fc7"
      },
      "execution_count": null,
      "outputs": [
        {
          "output_type": "execute_result",
          "data": {
            "image/png": "[encoded data removed]",
            "text/plain": [
              "<IPython.core.display.Image object>"
            ]
          },
          "metadata": {},
          "execution_count": 63
        }
      ]
    },
    {
      "cell_type": "code",
      "source": [
        "yPred = model.predict(xTest)\n",
        "\n",
        "yPred, yTest"
      ],
      "metadata": {
        "colab": {
          "base_uri": "https://localhost:8080/"
        },
        "id": "jWXO1_IVVtMk",
        "outputId": "8135a9c6-1034-4d9c-da67-c309a741aff4"
      },
      "execution_count": null,
      "outputs": [
        {
          "output_type": "execute_result",
          "data": {
            "text/plain": [
              "(array([[ 71.895355],\n",
              "        [ 76.037   ],\n",
              "        [ 80.17865 ],\n",
              "        [ 84.3203  ],\n",
              "        [ 88.461945],\n",
              "        [ 92.60359 ],\n",
              "        [ 96.74524 ],\n",
              "        [100.88689 ],\n",
              "        [105.02852 ],\n",
              "        [109.17018 ]], dtype=float32),\n",
              " <tf.Tensor: shape=(10, 1), dtype=int32, numpy=\n",
              " array([[ 70],\n",
              "        [ 74],\n",
              "        [ 78],\n",
              "        [ 82],\n",
              "        [ 86],\n",
              "        [ 90],\n",
              "        [ 94],\n",
              "        [ 98],\n",
              "        [102],\n",
              "        [106]], dtype=int32)>)"
            ]
          },
          "metadata": {},
          "execution_count": 74
        }
      ]
    },
    {
      "cell_type": "code",
      "source": [
        "#dfining our data visualizer for our predictions\n",
        "\n",
        "\n",
        "def visualizer(xTrain, yTrain, xTest, yTest, yPred):\n",
        "\n",
        "  plt.figure(figsize=(8, 7))\n",
        "\n",
        "  plt.scatter(xTrain, yTrain,c=\"b\", label=\"Training data\")\n",
        "  plt.scatter(xTest, yTest, c=\"g\", label=\"Testing data\")\n",
        "  plt.scatter(xTest, yPred, c=\"r\", label=\"predicted data\")\n",
        "\n",
        "\n",
        "  plt.scatter()\n",
        "  plt.legend()\n"
      ],
      "metadata": {
        "id": "N4tqLSImWzDx"
      },
      "execution_count": null,
      "outputs": []
    },
    {
      "cell_type": "code",
      "source": [
        "visualizer(xTrain, yTrain, xTest, yTest, yPred)"
      ],
      "metadata": {
        "colab": {
          "base_uri": "https://localhost:8080/",
          "height": 428
        },
        "id": "9CnKFeyKX-lW",
        "outputId": "bc115715-572b-488f-9fec-ee893fd3ce93"
      },
      "execution_count": null,
      "outputs": [
        {
          "output_type": "display_data",
          "data": {
            "image/png": "[encoded data removed]",
            "text/plain": [
              "<Figure size 576x504 with 1 Axes>"
            ]
          },
          "metadata": {
            "needs_background": "light"
          }
        }
      ]
    },
    {
      "cell_type": "code",
      "source": [
        "model.evaluate(xTest, yTest)\n",
        "\n",
        "# yPred  = tf.squeeze(tf.constant(yPred))\n",
        "\n",
        "yTest = tf.squeeze(yTest)\n",
        "\n",
        "yPred, yTest\n",
        "\n",
        "\n",
        "mae = tf.metrics.mean_absolute_error(y_true = yTest, y_pred = yPred)\n",
        "mae"
      ],
      "metadata": {
        "colab": {
          "base_uri": "https://localhost:8080/"
        },
        "id": "mbywsRKubRua",
        "outputId": "727bd775-7c9c-4e84-a9ef-332e38215684"
      },
      "execution_count": null,
      "outputs": [
        {
          "output_type": "stream",
          "name": "stdout",
          "text": [
            "1/1 [==============================] - 0s 19ms/step - loss: 2.5328 - mae: 2.5328\n"
          ]
        },
        {
          "output_type": "execute_result",
          "data": {
            "text/plain": [
              "<tf.Tensor: shape=(), dtype=float32, numpy=2.5327668>"
            ]
          },
          "metadata": {},
          "execution_count": 98
        }
      ]
    },
    {
      "cell_type": "code",
      "source": [
        "#if you want to compare two tensors together, you would need the shape of the tensors to be equal\n",
        "\n",
        "yPred, yTest"
      ],
      "metadata": {
        "colab": {
          "base_uri": "https://localhost:8080/"
        },
        "id": "fJ1bPyaidIxZ",
        "outputId": "94f3fec9-399d-4826-d4a4-855c194dda65"
      },
      "execution_count": null,
      "outputs": [
        {
          "output_type": "execute_result",
          "data": {
            "text/plain": [
              "(<tf.Tensor: shape=(10,), dtype=float32, numpy=\n",
              " array([ 71.895355,  76.037   ,  80.17865 ,  84.3203  ,  88.461945,\n",
              "         92.60359 ,  96.74524 , 100.88689 , 105.02852 , 109.17018 ],\n",
              "       dtype=float32)>,\n",
              " <tf.Tensor: shape=(10,), dtype=int32, numpy=array([ 70,  74,  78,  82,  86,  90,  94,  98, 102, 106], dtype=int32)>)"
            ]
          },
          "metadata": {},
          "execution_count": 97
        }
      ]
    },
    {
      "cell_type": "code",
      "source": [
        "tf.metrics.mean_squared_error(y_true=yTest, y_pred = yPred)"
      ],
      "metadata": {
        "colab": {
          "base_uri": "https://localhost:8080/"
        },
        "id": "-fyfBxlbgmVZ",
        "outputId": "3916fb83-c084-4f3b-fa93-f998ecf66a3c"
      },
      "execution_count": null,
      "outputs": [
        {
          "output_type": "execute_result",
          "data": {
            "text/plain": [
              "<tf.Tensor: shape=(), dtype=float32, numpy=6.580434>"
            ]
          },
          "metadata": {},
          "execution_count": 99
        }
      ]
    },
    {
      "cell_type": "code",
      "source": [
        "def maeFunction(yData, yPred):\n",
        "  return tf.metrics.mean_absolute_error(y_true=yData, y_pred=yPred)\n",
        "\n",
        "\n",
        "def mseFunction(yData, yPred):\n",
        "  return tf.metrics.mean_squared_error(y_true = yData, y_pred = yPred)"
      ],
      "metadata": {
        "id": "jv82L76iibLX"
      },
      "execution_count": null,
      "outputs": []
    },
    {
      "cell_type": "code",
      "source": [
        "maeFunction(yTest, yPred)\n",
        "\n",
        "mseFunction(yTest, yPred)"
      ],
      "metadata": {
        "colab": {
          "base_uri": "https://localhost:8080/"
        },
        "id": "-ylMbxjNiu3Q",
        "outputId": "8a488092-1d23-47f7-ddb2-5404cc80d0f8"
      },
      "execution_count": null,
      "outputs": [
        {
          "output_type": "execute_result",
          "data": {
            "text/plain": [
              "<tf.Tensor: shape=(), dtype=float32, numpy=6.580434>"
            ]
          },
          "metadata": {},
          "execution_count": 108
        }
      ]
    }
  ]
}
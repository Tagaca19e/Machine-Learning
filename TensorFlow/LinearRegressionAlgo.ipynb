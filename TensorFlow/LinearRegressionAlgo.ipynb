{
  "nbformat": 4,
  "nbformat_minor": 0,
  "metadata": {
    "colab": {
      "name": "LinearRegressionAlgo.ipynb",
      "provenance": []
    },
    "kernelspec": {
      "name": "python3",
      "display_name": "Python 3"
    },
    "language_info": {
      "name": "python"
    }
  },
  "cells": [
    {
      "cell_type": "code",
      "execution_count": 28,
      "metadata": {
        "colab": {
          "base_uri": "https://localhost:8080/"
        },
        "id": "m33g2CHTESvp",
        "outputId": "e24e8911-e3f2-4068-9fb4-37728c211057"
      },
      "outputs": [
        {
          "output_type": "execute_result",
          "data": {
            "text/plain": [
              "<tensorflow_estimator.python.estimator.canned.linear.LinearClassifierV2 at 0x7f58d6893f90>"
            ]
          },
          "metadata": {},
          "execution_count": 28
        }
      ],
      "source": [
        "#we can use the slope predict the output of our input\n",
        "#For a 3d linear regression -> we would need two inputs else if it was a 2d linear regression then\n",
        "#we just need 1 input \n",
        "\n",
        "!pip install -q sklearn\n",
        "%tensorflow_version 2.x\n",
        "\n",
        "import tensorflow as tf\n",
        "\n",
        "from __future__ import absolute_import, division, print_function, unicode_literals\n",
        "\n",
        "import pandas as pd #data analytics tool that allows you to manipulate data\n",
        "import numpy as np #multi dimensional calculations -> modified arrays\n",
        "\n",
        "import matplotlib.pyplot as plt #visualize the data by graphs\n",
        "from IPython.display import clear_output\n",
        "from six.moves import urllib\n",
        "\n",
        "import tensorflow.compat.v2.feature_column as fc\n",
        "\n",
        "\n",
        "\n",
        "#we did not have to import train_test_split since already have two data sets\n",
        "dfTrain = pd.read_csv('https://storage.googleapis.com/tf-datasets/titanic/train.csv')\n",
        "dfTest = pd.read_csv('https://storage.googleapis.com/tf-datasets/titanic/eval.csv')\n",
        "yTrain = dfTrain.pop('survived')\n",
        "yTest = dfTest.pop('survived')\n",
        "\n",
        "\n",
        "#dfTrain will no longer have the survived option\n",
        "\n",
        "categorical = ['sex', 'n_siblings_spouses', 'parch', 'class', 'deck', 'embark_town', 'alone']\n",
        "\n",
        "numerical = ['age', 'fare']\n",
        "\n",
        "feature_columns = []\n",
        "\n",
        "for i in categorical: \n",
        "  vocab = dfTrain[i].unique()\n",
        "\n",
        "  #feature_column\n",
        "  #categorical_column_with_vocabulary\n",
        "\n",
        "\n",
        "  feature_columns.append(tf.feature_column.categorical_column_with_vocabulary_list(i, vocab))\n",
        "\n",
        "  #feature_column\n",
        "  #numeric_column\n",
        "for j in numerical:\n",
        "  feature_columns.append(tf.feature_column.numeric_column(j, dtype=tf.float32))\n",
        "\n",
        "\n",
        "feature_columns\n",
        "\n",
        "\n",
        "\n",
        "#TRAINING\n",
        "\n",
        "#loading batches with 32 info\n",
        "#epoch the number of ways you can show a certain data to the model(having to input it basically)\n",
        "def make_input_fn(data_df, label_df, num_epochs=40, shuffle=True, batch_size=32):\n",
        "  def input_function():  # inner function, this will be returned\n",
        "    ds = tf.data.Dataset.from_tensor_slices((dict(data_df), label_df))  # create tf.data.Dataset object with data and its label\n",
        "    if shuffle:\n",
        "      ds = ds.shuffle(1000)  # randomize order of data\n",
        "    ds = ds.batch(batch_size).repeat(num_epochs)  # split dataset into batches of 32 and repeat process for number of epochs\n",
        "    return ds  # return a batch of the dataset\n",
        "  return input_function  # return a function object for use\n",
        "\n",
        "\n",
        "#putting in the data\n",
        "train_input_fn = make_input_fn(dfTrain, yTrain)  # here we will call the input_function that was returned to us to get a dataset object we can feed to the model\n",
        "eval_input_fn = make_input_fn(dfTest, yTest, num_epochs=1, shuffle=False)\n",
        "\n",
        "#creating the linear regression line\n",
        "#linear model(I think)\n",
        "linear_est = tf.estimator.LinearClassifier(feature_columns = feature_columns)\n",
        "\n",
        "#training the model by passing in the input\n",
        "linear_est.train(train_input_fn) #train\n",
        "\n",
        "\n",
        "#Testing the model by pasing in the test data\n",
        "res = linear_est.evaluate(eval_input_fn)\n",
        "\n",
        "clear_output() #clears out the loading phase of the algo\n",
        "\n",
        "res['accuracy']\n",
        "\n",
        "linear_est\n"
      ]
    },
    {
      "cell_type": "code",
      "source": [
        "predictions = list(linear_est.predict(eval_input_fn))\n",
        "\n",
        "print(dfTest.loc[10])\n",
        "print(predictions[10]['probabilities'][1])\n",
        "\n",
        "print(yTest[10])\n",
        "\n"
      ],
      "metadata": {
        "colab": {
          "base_uri": "https://localhost:8080/"
        },
        "id": "udDVAo9BhVcq",
        "outputId": "82052ba6-ec26-4767-a244-408e54741210"
      },
      "execution_count": 30,
      "outputs": [
        {
          "output_type": "stream",
          "name": "stdout",
          "text": [
            "INFO:tensorflow:Calling model_fn.\n"
          ]
        },
        {
          "output_type": "stream",
          "name": "stderr",
          "text": [
            "/usr/local/lib/python3.7/dist-packages/tensorflow_estimator/python/estimator/canned/linear.py:1478: UserWarning: `layer.add_variable` is deprecated and will be removed in a future version. Please use `layer.add_weight` method instead.\n",
            "  getter=tf.compat.v1.get_variable)\n"
          ]
        },
        {
          "output_type": "stream",
          "name": "stdout",
          "text": [
            "INFO:tensorflow:Done calling model_fn.\n",
            "INFO:tensorflow:Graph was finalized.\n",
            "INFO:tensorflow:Restoring parameters from /tmp/tmpt1urip89/model.ckpt-800\n",
            "INFO:tensorflow:Running local_init_op.\n",
            "INFO:tensorflow:Done running local_init_op.\n",
            "sex                       female\n",
            "age                           28\n",
            "n_siblings_spouses             0\n",
            "parch                          0\n",
            "fare                        7.75\n",
            "class                      Third\n",
            "deck                     unknown\n",
            "embark_town           Queenstown\n",
            "alone                          y\n",
            "Name: 10, dtype: object\n",
            "0.6722688\n",
            "1\n"
          ]
        }
      ]
    },
    {
      "cell_type": "markdown",
      "source": [
        ""
      ],
      "metadata": {
        "id": "O7Wa80rEKo7E"
      }
    }
  ]
}
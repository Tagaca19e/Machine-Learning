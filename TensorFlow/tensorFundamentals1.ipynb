{
  "cells": [
    {
      "cell_type": "markdown",
      "metadata": {
        "id": "NdPDFKLYPjPC"
      },
      "source": [
        "#hello world2"
      ]
    },
    {
      "cell_type": "markdown",
      "metadata": {
        "id": "wl5vtUMeP05t"
      },
      "source": [
        "#Table of Contents\n",
        "#Intro to tensors\n",
        "#Information from tensors\n",
        "#Manipulation of tensors\n",
        "#Tensors & NumPy\n",
        "#Using @tf.function -> speeding up regular python functions\n",
        "#Using GPUs wiht TensorFlow \n",
        "#Exercices\n",
        "\n",
        "\n",
        "\"sdfdsfsdfds\"\n"
      ]
    },
    {
      "cell_type": "code",
      "execution_count": 1,
      "metadata": {
        "colab": {
          "base_uri": "https://localhost:8080/"
        },
        "id": "rk5bDpqfU1iM",
        "outputId": "c3d85cdc-a067-4a22-e585-6e8e5da973ab"
      },
      "outputs": [
        {
          "data": {
            "text/plain": [
              "TensorShape([])"
            ]
          },
          "execution_count": 1,
          "metadata": {},
          "output_type": "execute_result"
        }
      ],
      "source": [
        "import tensorflow as tf\n",
        "import numpy as np\n",
        "#for version for tensorflow tf.__version__\n",
        "tf.__version__\n",
        "\n",
        "\n",
        "#===================\n",
        "\n",
        "\n",
        "#SCALAR = no dimension\n",
        "#tf.constant || numpy.array()\n",
        "scalar = tf.constant(7)\n",
        "\n",
        "hello = np.array(7)\n",
        "\n",
        "scalar2 = tf.constant(hello)\n",
        "\n",
        "scalar2 \n",
        "\n",
        "\n",
        "vector = tf.constant([10,10])\n",
        "\n",
        "\n",
        "\n",
        "\n",
        "#ndim = number of dimensions\n",
        "\n",
        "\n",
        "vector.ndim\n",
        "\n",
        "scalar.shape"
      ]
    },
    {
      "cell_type": "code",
      "execution_count": 2,
      "metadata": {
        "colab": {
          "base_uri": "https://localhost:8080/"
        },
        "id": "p-GVAY__oWQ1",
        "outputId": "6093933f-4c5c-449f-e65e-25b287424eb9"
      },
      "outputs": [
        {
          "data": {
            "text/plain": [
              "TensorShape([3, 2])"
            ]
          },
          "execution_count": 2,
          "metadata": {},
          "output_type": "execute_result"
        }
      ],
      "source": [
        "matrix1 = tf.constant([[1,2],\n",
        "                       [2,3],\n",
        "                       [3,2]])\n",
        "\n",
        "matrix1.shape"
      ]
    },
    {
      "cell_type": "code",
      "execution_count": 3,
      "metadata": {
        "colab": {
          "base_uri": "https://localhost:8080/"
        },
        "id": "nG5lYfJAm0Bd",
        "outputId": "dab326ef-0c8d-4833-eea0-a0abb20939d9"
      },
      "outputs": [
        {
          "data": {
            "text/plain": [
              "<tf.Tensor: shape=(3, 2), dtype=float16, numpy=\n",
              "array([[10.,  4.],\n",
              "       [ 1.,  2.],\n",
              "       [ 4.,  8.]], dtype=float16)>"
            ]
          },
          "execution_count": 3,
          "metadata": {},
          "output_type": "execute_result"
        }
      ],
      "source": [
        "matrix2 = tf.constant([[10., 4.], \n",
        "                       [1., 2.],\n",
        "                       [4., 8.]], dtype=tf.float16)\n",
        "\n",
        "matrix2"
      ]
    },
    {
      "cell_type": "code",
      "execution_count": 4,
      "metadata": {
        "id": "Mfad83kqrsV2"
      },
      "outputs": [],
      "source": [
        "#increasing the number of dimensions\n",
        "\n",
        "# dim = 3\n",
        "# shape = 2x3x3\n",
        "\n",
        "#*scalar has 0 dimensions\n",
        "#*vector has 1 dimensions\n",
        "#*matrix has 2 dimensions\n",
        "#*tensor has n dimensions"
      ]
    },
    {
      "cell_type": "code",
      "execution_count": 5,
      "metadata": {
        "colab": {
          "base_uri": "https://localhost:8080/"
        },
        "id": "llSZbgKqpJnH",
        "outputId": "bec88702-0f64-45ca-ad5d-7cfe8d38df0d"
      },
      "outputs": [
        {
          "data": {
            "text/plain": [
              "TensorShape([2, 3, 3])"
            ]
          },
          "execution_count": 5,
          "metadata": {},
          "output_type": "execute_result"
        }
      ],
      "source": [
        "\n",
        "tensor = tf.constant([[[1,2,2],\n",
        "                     [2,2,2],\n",
        "                     [3,3,3]], \n",
        "                    [[1,2,2],\n",
        "                     [2,2,2],\n",
        "                     [3,3,3]]])\n",
        "\n",
        "tensor.shape"
      ]
    },
    {
      "cell_type": "code",
      "execution_count": 6,
      "metadata": {
        "colab": {
          "base_uri": "https://localhost:8080/"
        },
        "id": "ae7j7Krhq9es",
        "outputId": "f5ffb87a-b63d-4587-e704-c9d5f5bf9613"
      },
      "outputs": [
        {
          "data": {
            "text/plain": [
              "(<tf.Variable 'Variable:0' shape=() dtype=int32, numpy=9>,\n",
              " <tf.Tensor: shape=(), dtype=int32, numpy=2>)"
            ]
          },
          "execution_count": 6,
          "metadata": {},
          "output_type": "execute_result"
        }
      ],
      "source": [
        "#to change variable for tensors = myTensor.assign(newData)\n",
        "\n",
        "scalarV = tf.Variable(2)\n",
        "\n",
        "scalarC = tf.constant(2)\n",
        "\n",
        "\n",
        "scalarV.assign(9)\n",
        "\n",
        "scalarV, scalarC"
      ]
    },
    {
      "cell_type": "code",
      "execution_count": 7,
      "metadata": {
        "colab": {
          "base_uri": "https://localhost:8080/"
        },
        "id": "EPlISALCt1q3",
        "outputId": "490aadbd-175b-40b4-c007-edff278b874c"
      },
      "outputs": [
        {
          "data": {
            "text/plain": [
              "(<tf.Tensor: shape=(2, 2), dtype=float32, numpy=\n",
              " array([[-0.29604465, -0.21134205],\n",
              "        [ 0.01063002,  1.5165398 ]], dtype=float32)>,\n",
              " <tf.Tensor: shape=(2, 2), dtype=float32, numpy=\n",
              " array([[-0.29604465, -0.21134205],\n",
              "        [ 0.01063002,  1.5165398 ]], dtype=float32)>,\n",
              " <tf.Tensor: shape=(2, 2), dtype=float32, numpy=\n",
              " array([[ 1.0621036 ,  2.5661457 ],\n",
              "        [-0.5003115 , -0.76677424]], dtype=float32)>)"
            ]
          },
          "execution_count": 7,
          "metadata": {},
          "output_type": "execute_result"
        }
      ],
      "source": [
        "#Creating random tensors\n",
        "\n",
        "#not really random since you are spedifying the seed\n",
        "#uniform = no negative numbers\n",
        "#normal = negative and positive numbers\n",
        "rndm = tf.random.Generator.from_seed(10)\n",
        "rndm1 = rndm.normal(shape=(2,2))\n",
        "\n",
        "rndm0 = tf.random.Generator.from_seed(10)\n",
        "rndm2 = rndm0.normal(shape=(2,2))\n",
        "\n",
        "\n",
        "rdm3 = tf.random.normal(shape=(2,2))\n",
        "rndm1, rndm2, rdm3"
      ]
    },
    {
      "cell_type": "code",
      "execution_count": 8,
      "metadata": {
        "colab": {
          "base_uri": "https://localhost:8080/"
        },
        "id": "D5UeUmRn5wDy",
        "outputId": "c47a32da-df9f-4355-eddd-ec099ab492f1"
      },
      "outputs": [
        {
          "data": {
            "text/plain": [
              "(<tf.Tensor: shape=(3, 3), dtype=int32, numpy=\n",
              " array([[34, 87, 56],\n",
              "        [ 4, 99, 52],\n",
              "        [ 1, 10, 11]], dtype=int32)>,\n",
              " <tf.Tensor: shape=(3, 3), dtype=int32, numpy=\n",
              " array([[34, 87, 56],\n",
              "        [ 1, 10, 11],\n",
              "        [ 4, 99, 52]], dtype=int32)>)"
            ]
          },
          "execution_count": 8,
          "metadata": {},
          "output_type": "execute_result"
        }
      ],
      "source": [
        "#Shuffling the elements inside the tensor\n",
        "#Shuffle does not shuffle one dimensionals \n",
        "#tf.random.set_seed(12) -> not change the random state even after refresh\n",
        "\n",
        "tf.random.set_seed(12)\n",
        "\n",
        "ourTensor = tf.constant([[1,10, 11],\n",
        "                         [4, 99, 52],\n",
        "                         [34, 87, 56]])\n",
        "\n",
        "\n",
        "ourTensor2 = tf.constant([[1,10, 11],\n",
        "                          [4, 99, 52],\n",
        "                          [34, 87, 56]])\n",
        "#if you set it to the same seed the they will be the same no matter what\n",
        "#if the globl and operational are not the same then they will not be the same but will not change after refresh\n",
        "tf.random.shuffle(ourTensor, seed=12), tf.random.shuffle(ourTensor2, seed=12)\n"
      ]
    },
    {
      "cell_type": "code",
      "execution_count": 9,
      "metadata": {
        "colab": {
          "base_uri": "https://localhost:8080/"
        },
        "id": "VfFmJqw2A74U",
        "outputId": "71022d50-500a-44ea-97cb-c472e1e051cf"
      },
      "outputs": [
        {
          "data": {
            "text/plain": [
              "<tf.Variable 'Variable:0' shape=(3, 3) dtype=int16, numpy=\n",
              "array([[1, 2, 3],\n",
              "       [4, 5, 6],\n",
              "       [7, 8, 9]], dtype=int16)>"
            ]
          },
          "execution_count": 9,
          "metadata": {},
          "output_type": "execute_result"
        }
      ],
      "source": [
        "#random shuffling 1s array\n",
        "\n",
        "d = tf.constant([1,2,3])\n",
        "\n",
        "\n",
        "tf.random.shuffle(d)\n",
        "\n",
        "#changing the data type of the tensor \n",
        "s = tf.Variable([[1,2,3],\n",
        "                 [4,5,6],\n",
        "                 [7,8,9]], dtype=tf.int16)\n",
        "s\n",
        "\n",
        "\n"
      ]
    },
    {
      "cell_type": "markdown",
      "metadata": {
        "id": "J5ksya4MWiyM"
      },
      "source": [
        "Numpy arrays and shaping"
      ]
    },
    {
      "cell_type": "code",
      "execution_count": 10,
      "metadata": {
        "colab": {
          "base_uri": "https://localhost:8080/"
        },
        "id": "56TkdsK1D0i3",
        "outputId": "a39a52d5-bd13-4cd1-d07c-118e647a19a6"
      },
      "outputs": [
        {
          "data": {
            "text/plain": [
              "<tf.Tensor: shape=(3, 3), dtype=int32, numpy=\n",
              "array([[1, 2, 3],\n",
              "       [4, 5, 6],\n",
              "       [7, 8, 9]], dtype=int32)>"
            ]
          },
          "execution_count": 10,
          "metadata": {},
          "output_type": "execute_result"
        }
      ],
      "source": [
        "#We shuffle it so that the model will not be biased\n",
        "#numpy arrays vs tensorflow tensor = tensors are faster to be run on a GPU\n",
        "\n",
        "\n",
        "\n",
        "#creating tensors with 0's asn 1's\n",
        "tf.ones([2,2])\n",
        "\n",
        "tf.zeros([])\n",
        "\n",
        "\n",
        "import numpy as np\n",
        "\n",
        "#capital for a matrix or a tensor and non-capital for a vector\n",
        "\n",
        "npA = np.arange(1, 10,dtype=np.int32)\n",
        "\n",
        "npA\n",
        "\n",
        "\n",
        "\n",
        "newTensor = tf.constant(npA, shape=(3,3))\n",
        "newTensor\n",
        "# tf.reshape(newTensor, [3,3])"
      ]
    },
    {
      "cell_type": "code",
      "execution_count": 11,
      "metadata": {
        "colab": {
          "base_uri": "https://localhost:8080/"
        },
        "id": "MH_4i84eXpqG",
        "outputId": "1147f543-acdf-48d4-fb0b-a555a6fedaa6"
      },
      "outputs": [
        {
          "data": {
            "text/plain": [
              "4"
            ]
          },
          "execution_count": 11,
          "metadata": {},
          "output_type": "execute_result"
        }
      ],
      "source": [
        "#Rank4 tensor\n",
        "\n",
        "\n",
        "# r4 = tf.random.uniform(shape=(4,3,3,2))\n",
        "\n",
        "\n",
        "r4 = np.arange(1, 65, dtype=np.int32)\n",
        "\n",
        "rank4 = tf.constant(r4,shape=(4, 4, 2, 2))\n",
        "rank4.ndim\n",
        "\n",
        "\n",
        "ra4 = tf.zeros([4,4,4,4])\n",
        "\n",
        "ra4.ndim"
      ]
    },
    {
      "cell_type": "code",
      "execution_count": 12,
      "metadata": {
        "colab": {
          "base_uri": "https://localhost:8080/"
        },
        "id": "SlBl9RuAgBvq",
        "outputId": "a864ab78-e1b9-4207-9cce-f90ac25ec0e6"
      },
      "outputs": [
        {
          "data": {
            "text/plain": [
              "<tf.Tensor: shape=(2, 2, 1), dtype=int32, numpy=\n",
              "array([[[ 1],\n",
              "        [ 2]],\n",
              "\n",
              "       [[ 9],\n",
              "        [11]]], dtype=int32)>"
            ]
          },
          "execution_count": 12,
          "metadata": {},
          "output_type": "execute_result"
        }
      ],
      "source": [
        "r4 = tf.zeros(shape=[2,4,2,2])\n",
        "\n",
        "r4[0]\n",
        "\n",
        "\n",
        "\n",
        "# print(f\"\"\"\n",
        "#       Dtype of every element: {r4.dtype}\n",
        "#       Number of dimenstion || rank: {r4.ndim}\n",
        "#       Shape of the tensor: {r4.shape}\n",
        "#       Elements along the 0 axis: {r4.shape[0]}\n",
        "#       Elements along the last axis: {r4.shape[-1]}\n",
        "#       Total number of elements: {tf.size(r4)}\"\"\")\n",
        "\n",
        "\n",
        "\n",
        "\n",
        "#print(r4)\n",
        "\n",
        "ourT = tf.constant([[1,3,3],\n",
        "                    [4,5,6],\n",
        "                    [7,8,9]])\n",
        "\n",
        "\n",
        "ourF = tf.random.uniform(shape=(2,3,4))\n",
        "#print(ourF)\n",
        "\n",
        "\n",
        "#to get the idx of the tensors, just like an array but only one [] brackets\n",
        "\n",
        "\n",
        "\n",
        "ourF[:2,:1, :2 ]\n",
        "\n",
        "\n",
        "\n",
        "#create a rank 2 tensor \n",
        "\n",
        "r2 = tf.constant([[1,2], \n",
        "                  [9,11]])\n",
        "\n",
        "r2.ndim\n",
        "\n",
        "r2[-1, -1]\n",
        "\n",
        "\n",
        "#adding in extra diemension\n",
        "\n",
        "#adding new axis or dimension = tf.newaxis\n",
        "r3 = r2[..., tf.newaxis]\n",
        "\n",
        "\n",
        "r3\n",
        "\n",
        "\n",
        "\n",
        "tf.expand_dims(r2, axis =-1) # expand the final axis adding dimension at the end\n",
        "\n",
        "\n",
        "\n",
        "\n"
      ]
    },
    {
      "cell_type": "code",
      "execution_count": 13,
      "metadata": {
        "colab": {
          "base_uri": "https://localhost:8080/"
        },
        "id": "yRUz2ZvDz7XX",
        "outputId": "eba298ba-55ca-481d-b2fd-9ea5c283e941"
      },
      "outputs": [
        {
          "data": {
            "text/plain": [
              "<tf.Tensor: shape=(1, 2, 2), dtype=int32, numpy=\n",
              "array([[[ 1,  2],\n",
              "        [ 9, 11]]], dtype=int32)>"
            ]
          },
          "execution_count": 13,
          "metadata": {},
          "output_type": "execute_result"
        }
      ],
      "source": [
        "tf.expand_dims(r2, axis = 1) #adds in another dimension at the middle \n",
        "tf.expand_dims(r2, axis=0) #adds in another dimesions at the front"
      ]
    },
    {
      "cell_type": "code",
      "execution_count": 14,
      "metadata": {
        "colab": {
          "base_uri": "https://localhost:8080/"
        },
        "id": "MW5WwKbW0Zn9",
        "outputId": "4c482988-33be-4be2-f2e7-dd8980d0175e"
      },
      "outputs": [
        {
          "data": {
            "text/plain": [
              "<tf.Tensor: shape=(2, 2), dtype=float64, numpy=\n",
              "array([[5. , 3.5],\n",
              "       [0. , 0.5]])>"
            ]
          },
          "execution_count": 14,
          "metadata": {},
          "output_type": "execute_result"
        }
      ],
      "source": [
        "#adding values to a tensor using the addition operator\n",
        "\n",
        "\n",
        "ten = tf.constant( [[10,7], [0, 1]])\n",
        "\n",
        "\n",
        "#this will add 10 within our elements inside the tensor\n",
        "ten + 10\n",
        "\n",
        "ten * 10\n",
        "\n",
        "ten - 7\n",
        "\n",
        "\n",
        "tf.add(ten, 10)\n",
        "tf.multiply(ten, 2)\n",
        "\n",
        "tf.subtract(ten, 7)\n",
        "\n",
        "tf.divide(ten, 2)"
      ]
    },
    {
      "cell_type": "code",
      "execution_count": 15,
      "metadata": {
        "colab": {
          "base_uri": "https://localhost:8080/"
        },
        "id": "mjXD5od57ERb",
        "outputId": "99c5c3d9-5bbf-44ae-fdd5-d38fef2f9e27"
      },
      "outputs": [
        {
          "data": {
            "text/plain": [
              "<tf.Tensor: shape=(2, 2), dtype=int32, numpy=\n",
              "array([[100,  77],\n",
              "       [  0,   1]], dtype=int32)>"
            ]
          },
          "execution_count": 15,
          "metadata": {},
          "output_type": "execute_result"
        }
      ],
      "source": [
        "#Matrix multiplication\n",
        "\n",
        "tf.matmul(ten, ten)"
      ]
    },
    {
      "cell_type": "code",
      "execution_count": 16,
      "metadata": {
        "colab": {
          "base_uri": "https://localhost:8080/"
        },
        "id": "q87SFyry9HAS",
        "outputId": "a4994b89-36f9-4514-ef32-6770ee71c63a"
      },
      "outputs": [
        {
          "data": {
            "text/plain": [
              "<tf.Tensor: shape=(3, 2), dtype=int32, numpy=\n",
              "array([[48, 72],\n",
              "       [38, 58],\n",
              "       [45, 66]], dtype=int32)>"
            ]
          },
          "execution_count": 16,
          "metadata": {},
          "output_type": "execute_result"
        }
      ],
      "source": [
        "o = tf.constant([[1,2,5],\n",
        "                 [7,2,1],\n",
        "                 [3,3,3]])\n",
        "\n",
        "o2 = tf.constant([[3,5,5],\n",
        "                  [6,7,11]])\n",
        "\n",
        "o2 = tf.reshape(o2,[3,2])\n",
        "tf.matmul(o, o2)"
      ]
    },
    {
      "cell_type": "code",
      "execution_count": 17,
      "metadata": {
        "colab": {
          "base_uri": "https://localhost:8080/"
        },
        "id": "ng3gD5wE_Rm8",
        "outputId": "37bf3db4-5632-496b-b326-44fe6d6119e5"
      },
      "outputs": [
        {
          "data": {
            "text/plain": [
              "<tf.Tensor: shape=(3, 2), dtype=int32, numpy=\n",
              "array([[48, 72],\n",
              "       [38, 58],\n",
              "       [45, 66]], dtype=int32)>"
            ]
          },
          "execution_count": 17,
          "metadata": {},
          "output_type": "execute_result"
        }
      ],
      "source": [
        "oa = tf.constant([[1,2,1],\n",
        "                 [3,4,1]])\n",
        "\n",
        "oh = tf.constant([[3,5],\n",
        "                  [6,7],\n",
        "                  [1,8]])\n",
        "\n",
        "\n",
        "tf.matmul(o, o2)"
      ]
    },
    {
      "cell_type": "code",
      "execution_count": 18,
      "metadata": {
        "colab": {
          "base_uri": "https://localhost:8080/"
        },
        "id": "IxmE280fx3Kh",
        "outputId": "c7ca88cd-7413-41a9-e6da-e9220220ca9d"
      },
      "outputs": [
        {
          "data": {
            "text/plain": [
              "(<tf.Tensor: shape=(2, 3), dtype=int32, numpy=\n",
              " array([[3, 6, 1],\n",
              "        [5, 7, 8]], dtype=int32)>,\n",
              " <tf.Tensor: shape=(2, 3), dtype=int32, numpy=\n",
              " array([[3, 5, 6],\n",
              "        [7, 1, 8]], dtype=int32)>)"
            ]
          },
          "execution_count": 18,
          "metadata": {},
          "output_type": "execute_result"
        }
      ],
      "source": [
        "#transpose will flip the axis\n",
        "#/\n",
        "\n",
        "tf.transpose(oh), tf.reshape(oh, [2,3])"
      ]
    },
    {
      "cell_type": "code",
      "execution_count": 19,
      "metadata": {
        "colab": {
          "base_uri": "https://localhost:8080/"
        },
        "id": "miVd8ACezpTE",
        "outputId": "c5a4a187-9611-4bc5-b190-9463eb49439a"
      },
      "outputs": [
        {
          "data": {
            "text/plain": [
              "<tf.Tensor: shape=(3, 2), dtype=int32, numpy=\n",
              "array([[1, 3],\n",
              "       [2, 4],\n",
              "       [1, 1]], dtype=int32)>"
            ]
          },
          "execution_count": 19,
          "metadata": {},
          "output_type": "execute_result"
        }
      ],
      "source": [
        "tf.tensordot(oa, oh, axes=1)\n",
        "tf.transpose(oa)"
      ]
    },
    {
      "cell_type": "code",
      "execution_count": 20,
      "metadata": {
        "colab": {
          "base_uri": "https://localhost:8080/"
        },
        "id": "W5fGXRXC5F5F",
        "outputId": "538b44fa-ec5b-4f76-f025-b626563d41a4"
      },
      "outputs": [
        {
          "data": {
            "text/plain": [
              "<tf.Tensor: shape=(3,), dtype=float16, numpy=array([1.1, 2.2, 3.3], dtype=float16)>"
            ]
          },
          "execution_count": 20,
          "metadata": {},
          "output_type": "execute_result"
        }
      ],
      "source": [
        "#Changing the data type of a tensor\n",
        "\n",
        "B = tf.constant([1,2,3])\n",
        "\n",
        "A = tf.constant([1.1,2.2,3.3])\n",
        "\n",
        "A.dtype\n",
        "\n",
        "\n",
        "A = tf.cast(A, dtype=tf.float16)\n",
        "A"
      ]
    },
    {
      "cell_type": "code",
      "execution_count": 21,
      "metadata": {
        "colab": {
          "base_uri": "https://localhost:8080/"
        },
        "id": "qyfZI3KW8leL",
        "outputId": "cfada92b-14e0-4c9a-f1af-f765683fec9c"
      },
      "outputs": [
        {
          "name": "stdout",
          "output_type": "stream",
          "text": [
            "tf.Tensor(7.0, shape=(), dtype=float32)\n",
            "tf.Tensor(47.16, shape=(), dtype=float32)\n",
            "tf.Tensor(99.0, shape=(), dtype=float32)\n",
            "tf.Tensor(2358.0, shape=(), dtype=float32)\n",
            "tf.Tensor(50, shape=(), dtype=int32)\n",
            "tf.Tensor(\n",
            "[52. 79. 25. 64. 84. 62. 48. 63. 17. 11. 59. 42.  7. 92. 10. 97. 32. 71.\n",
            " 75. 22. 87. 40. 17. 65. 49. 24. 39. 18. 89. 64. 76. 43. 99. 44.  9. 20.\n",
            " 22. 23. 14. 51. 15. 51. 83. 61. 60. 12.  7. 75. 80.  9.], shape=(50,), dtype=float32)\n",
            "tf.Tensor(779.93445, shape=(), dtype=float32)\n",
            "tf.Tensor(27.927307, shape=(), dtype=float32)\n"
          ]
        }
      ],
      "source": [
        "#aggregating tensors = grouping and making them into smaller amout of values\n",
        "\n",
        "C = tf.constant(np.random.randint(0, 100, size=50))\n",
        "\n",
        "C = tf.cast(C, dtype=tf.float32)\n",
        "\n",
        "#getting the maximun, minimum, mean, and sum\n",
        "print(tf.reduce_min(C))\n",
        "print(tf.reduce_mean(C)) \n",
        "print(tf.reduce_max(C))\n",
        "print(tf.reduce_sum(C))\n",
        "print(tf.size(C))\n",
        "print(C)\n",
        "\n",
        "\n",
        "\n",
        "#gettting the variance of the tensor\n",
        "import tensorflow_probability as tfp\n",
        "\n",
        "print(tfp.stats.variance(C))\n",
        "\n",
        "#For the stadard devaition, the tensor needs to be a float since it is stats\n",
        "print(tfp.stats.stddev(C))\n",
        "\n",
        "\n"
      ]
    },
    {
      "cell_type": "code",
      "execution_count": 28,
      "metadata": {
        "colab": {
          "base_uri": "https://localhost:8080/"
        },
        "id": "llUXEzzpW7vD",
        "outputId": "72acedb2-ea1e-4e6a-da53-c2ee644bd831"
      },
      "outputs": [
        {
          "data": {
            "text/plain": [
              "<tf.Tensor: shape=(), dtype=float32, numpy=27.927307>"
            ]
          },
          "execution_count": 28,
          "metadata": {},
          "output_type": "execute_result"
        }
      ],
      "source": [
        "tf.math.reduce_variance(C)\n",
        "\n",
        "\n",
        "tf.math.reduce_std(C)"
      ]
    },
    {
      "cell_type": "code",
      "execution_count": 41,
      "metadata": {
        "colab": {
          "base_uri": "https://localhost:8080/"
        },
        "id": "dEDb1oHTXbwn",
        "outputId": "e8eef567-8452-4048-8af2-709a2a651692"
      },
      "outputs": [
        {
          "name": "stdout",
          "output_type": "stream",
          "text": [
            "tf.Tensor(0.9671384, shape=(), dtype=float32)\n",
            "tf.Tensor(0.9671384, shape=(), dtype=float32)\n",
            "tf.Tensor(16, shape=(), dtype=int64)\n",
            "tf.Tensor(0.009463668, shape=(), dtype=float32)\n"
          ]
        },
        {
          "data": {
            "text/plain": [
              "<tf.Tensor: shape=(50,), dtype=float32, numpy=\n",
              "array([0.6645621 , 0.44100678, 0.3528825 , 0.46448255, 0.03366041,\n",
              "       0.68467236, 0.74011743, 0.8724445 , 0.22632635, 0.22319686,\n",
              "       0.3103881 , 0.7223358 , 0.13318717, 0.5480639 , 0.5746088 ,\n",
              "       0.8996835 , 0.00946367, 0.5212307 , 0.6345445 , 0.1993283 ,\n",
              "       0.72942245, 0.54583454, 0.10756552, 0.6767061 , 0.6602763 ,\n",
              "       0.33695042, 0.60141766, 0.21062577, 0.8527372 , 0.44062173,\n",
              "       0.9485276 , 0.23752594, 0.81179297, 0.5263394 , 0.494308  ,\n",
              "       0.21612847, 0.8457197 , 0.8718841 , 0.3083862 , 0.6868038 ,\n",
              "       0.23764038, 0.7817228 , 0.9671384 , 0.06870162, 0.79873943,\n",
              "       0.66028714, 0.5871513 , 0.16461694, 0.7381023 , 0.32054043],\n",
              "      dtype=float32)>"
            ]
          },
          "execution_count": 41,
          "metadata": {},
          "output_type": "execute_result"
        }
      ],
      "source": [
        "#Fiding the maximum and minimun positional value\n",
        "\n",
        "\n",
        "\n",
        "tf.random.set_seed(42)\n",
        "F = tf.random.uniform(shape=[50])\n",
        "tf.argmax(F) #-> gets the idx of it\n",
        "\n",
        "\n",
        "\n",
        "print(F[tf.argmax(F)])\n",
        "\n",
        "\n",
        "print(tf.reduce_max(F))\n",
        "\n",
        "\n",
        "\n",
        "print(tf.argmin(F))\n",
        "\n",
        "print(F[tf.argmin(F)])\n",
        "F\n"
      ]
    },
    {
      "cell_type": "code",
      "execution_count": 52,
      "metadata": {
        "colab": {
          "base_uri": "https://localhost:8080/"
        },
        "id": "-ee8Xl4CbHAm",
        "outputId": "1db880fc-44c3-4fd0-c1a0-5b96344ec6e5"
      },
      "outputs": [
        {
          "name": "stdout",
          "output_type": "stream",
          "text": [
            "tf.Tensor(7, shape=(), dtype=int64)\n"
          ]
        },
        {
          "data": {
            "text/plain": [
              "<tf.Tensor: shape=(2, 10), dtype=float32, numpy=\n",
              "array([[0.9198024 , 0.9021473 , 0.41526616, 0.08292842, 0.10040832,\n",
              "        0.06153822, 0.7671492 , 0.05545342, 0.13344252, 0.874243  ],\n",
              "       [0.12639618, 0.07750273, 0.8898996 , 0.8573204 , 0.40581453,\n",
              "        0.05270422, 0.8703762 , 0.39350355, 0.41915298, 0.32164288]],\n",
              "      dtype=float32)>"
            ]
          },
          "execution_count": 52,
          "metadata": {},
          "output_type": "execute_result"
        }
      ],
      "source": [
        "G = tf.random.uniform(shape=(2,10))\n",
        "\n",
        "\n",
        "print(tf.argmin(G[0]))\n",
        "\n",
        "G"
      ]
    },
    {
      "cell_type": "code",
      "execution_count": 62,
      "metadata": {
        "colab": {
          "base_uri": "https://localhost:8080/"
        },
        "id": "_WPykapYcLK4",
        "outputId": "1015c141-6b34-45a0-faff-82d5a1abe709"
      },
      "outputs": [
        {
          "data": {
            "text/plain": [
              "<tf.Tensor: shape=(1, 1, 1, 1, 100), dtype=float32, numpy=\n",
              "array([[[[[0.5852475 , 0.9927181 , 0.3110503 , 0.44591808, 0.8970233 ,\n",
              "           0.6452199 , 0.04707861, 0.43374014, 0.6919069 , 0.2356894 ,\n",
              "           0.54439366, 0.45189762, 0.8827189 , 0.5912421 , 0.5673742 ,\n",
              "           0.39240313, 0.1258322 , 0.94337356, 0.19854975, 0.45738494,\n",
              "           0.5995703 , 0.2941928 , 0.7386502 , 0.05998945, 0.12787127,\n",
              "           0.6411879 , 0.4465276 , 0.22277546, 0.12308025, 0.7215545 ,\n",
              "           0.2790836 , 0.27117848, 0.32610834, 0.60007644, 0.84208965,\n",
              "           0.65200114, 0.8364419 , 0.5823555 , 0.7090963 , 0.23557973,\n",
              "           0.17463195, 0.04684031, 0.03135979, 0.9831356 , 0.9527756 ,\n",
              "           0.1761508 , 0.98687565, 0.03847897, 0.5953833 , 0.8765999 ,\n",
              "           0.9711665 , 0.326411  , 0.04698968, 0.4017011 , 0.39505637,\n",
              "           0.7639568 , 0.68583596, 0.33126056, 0.33389914, 0.85423064,\n",
              "           0.29443562, 0.27368915, 0.91453254, 0.39472067, 0.1648544 ,\n",
              "           0.64951265, 0.5388243 , 0.245669  , 0.9451741 , 0.35888386,\n",
              "           0.30763912, 0.7259046 , 0.23311901, 0.27370644, 0.1908946 ,\n",
              "           0.189623  , 0.830791  , 0.15305161, 0.14640856, 0.98006904,\n",
              "           0.3721168 , 0.50546014, 0.71568274, 0.15889132, 0.8946651 ,\n",
              "           0.41409838, 0.7568667 , 0.3096404 , 0.96410966, 0.93427837,\n",
              "           0.05036151, 0.05107272, 0.00366533, 0.60401356, 0.59461796,\n",
              "           0.4244324 , 0.46456683, 0.2547257 , 0.6063701 , 0.8443755 ]]]]],\n",
              "      dtype=float32)>"
            ]
          },
          "execution_count": 62,
          "metadata": {},
          "output_type": "execute_result"
        }
      ],
      "source": [
        "H = tf.constant(tf.random.uniform(shape=[100]), shape= (1,1,1,1,100))\n",
        "\n",
        "\n",
        "H"
      ]
    },
    {
      "cell_type": "code",
      "execution_count": 63,
      "metadata": {
        "colab": {
          "base_uri": "https://localhost:8080/"
        },
        "id": "gMOVrXt_cgki",
        "outputId": "dd73b0bb-5104-48cc-915f-f5c210428ccd"
      },
      "outputs": [
        {
          "data": {
            "text/plain": [
              "<tf.Tensor: shape=(100,), dtype=float32, numpy=\n",
              "array([0.5852475 , 0.9927181 , 0.3110503 , 0.44591808, 0.8970233 ,\n",
              "       0.6452199 , 0.04707861, 0.43374014, 0.6919069 , 0.2356894 ,\n",
              "       0.54439366, 0.45189762, 0.8827189 , 0.5912421 , 0.5673742 ,\n",
              "       0.39240313, 0.1258322 , 0.94337356, 0.19854975, 0.45738494,\n",
              "       0.5995703 , 0.2941928 , 0.7386502 , 0.05998945, 0.12787127,\n",
              "       0.6411879 , 0.4465276 , 0.22277546, 0.12308025, 0.7215545 ,\n",
              "       0.2790836 , 0.27117848, 0.32610834, 0.60007644, 0.84208965,\n",
              "       0.65200114, 0.8364419 , 0.5823555 , 0.7090963 , 0.23557973,\n",
              "       0.17463195, 0.04684031, 0.03135979, 0.9831356 , 0.9527756 ,\n",
              "       0.1761508 , 0.98687565, 0.03847897, 0.5953833 , 0.8765999 ,\n",
              "       0.9711665 , 0.326411  , 0.04698968, 0.4017011 , 0.39505637,\n",
              "       0.7639568 , 0.68583596, 0.33126056, 0.33389914, 0.85423064,\n",
              "       0.29443562, 0.27368915, 0.91453254, 0.39472067, 0.1648544 ,\n",
              "       0.64951265, 0.5388243 , 0.245669  , 0.9451741 , 0.35888386,\n",
              "       0.30763912, 0.7259046 , 0.23311901, 0.27370644, 0.1908946 ,\n",
              "       0.189623  , 0.830791  , 0.15305161, 0.14640856, 0.98006904,\n",
              "       0.3721168 , 0.50546014, 0.71568274, 0.15889132, 0.8946651 ,\n",
              "       0.41409838, 0.7568667 , 0.3096404 , 0.96410966, 0.93427837,\n",
              "       0.05036151, 0.05107272, 0.00366533, 0.60401356, 0.59461796,\n",
              "       0.4244324 , 0.46456683, 0.2547257 , 0.6063701 , 0.8443755 ],\n",
              "      dtype=float32)>"
            ]
          },
          "execution_count": 63,
          "metadata": {},
          "output_type": "execute_result"
        }
      ],
      "source": [
        "\n",
        "#This will remove one dimensionals in the tensor \n",
        "G_squeezed = tf.squeeze(H) \n",
        "\n",
        "G_squeezed"
      ]
    },
    {
      "cell_type": "code",
      "execution_count": 74,
      "metadata": {
        "colab": {
          "base_uri": "https://localhost:8080/"
        },
        "id": "f-GtXvoVdzhg",
        "outputId": "91ef6499-3323-4938-a94e-452c218ce874"
      },
      "outputs": [
        {
          "data": {
            "text/plain": [
              "<tf.Tensor: shape=(4, 4), dtype=float32, numpy=\n",
              "array([[0., 1., 0., 0.],\n",
              "       [0., 0., 1., 0.],\n",
              "       [0., 0., 0., 1.],\n",
              "       [0., 0., 0., 0.]], dtype=float32)>"
            ]
          },
          "execution_count": 74,
          "metadata": {},
          "output_type": "execute_result"
        }
      ],
      "source": [
        "helloAr = [1,2,3,4] \n",
        "\n",
        "\n",
        "l = ['hello', 'world']\n",
        "#one_hot\n",
        "\n",
        "\n",
        "tf.one_hot(helloAr, depth=len(helloAr))\n",
        "\n"
      ]
    },
    {
      "cell_type": "code",
      "execution_count": 84,
      "metadata": {
        "colab": {
          "base_uri": "https://localhost:8080/"
        },
        "id": "WCcc8qJUgBSo",
        "outputId": "46eeeefd-887c-4f8a-e347-98bfebd0e378"
      },
      "outputs": [
        {
          "data": {
            "text/plain": [
              "<tf.Tensor: shape=(9,), dtype=float16, numpy=\n",
              "array([0.    , 0.6934, 1.099 , 1.387 , 1.609 , 1.792 , 1.946 , 2.08  ,\n",
              "       2.197 ], dtype=float16)>"
            ]
          },
          "execution_count": 84,
          "metadata": {},
          "output_type": "execute_result"
        }
      ],
      "source": [
        "#creating another tensor with 'tf.range'\n",
        "\n",
        "\n",
        "I = tf.range(1,10)\n",
        "\n",
        "tf.square(I) #squaring\n",
        "\n",
        "\n",
        "tf.sqrt(tf.cast(I, dtype=tf.float16)) #square root for our tensor\n",
        "\n",
        "tf.math.log(tf.cast(I, dtype=tf.float16)) #logs requeire math funcion\n",
        "\n"
      ]
    },
    {
      "cell_type": "code",
      "execution_count": 90,
      "metadata": {
        "colab": {
          "base_uri": "https://localhost:8080/"
        },
        "id": "Y3kKqlWShmBD",
        "outputId": "291f568f-3268-451e-995b-9242351c333b"
      },
      "outputs": [
        {
          "data": {
            "text/plain": [
              "<tf.Tensor: shape=(3, 3), dtype=int32, numpy=\n",
              "array([[1, 2, 3],\n",
              "       [4, 5, 6],\n",
              "       [7, 8, 9]], dtype=int32)>"
            ]
          },
          "execution_count": 90,
          "metadata": {},
          "output_type": "execute_result"
        }
      ],
      "source": [
        "K = tf.range(1,10)\n",
        "\n",
        "tf.reshape(K, shape=(3,3))\n",
        "\n"
      ]
    },
    {
      "cell_type": "code",
      "execution_count": 111,
      "metadata": {
        "colab": {
          "base_uri": "https://localhost:8080/"
        },
        "id": "1yDWa0g3jRqs",
        "outputId": "167e6074-2e7c-469e-b207-4440d64ac86c"
      },
      "outputs": [
        {
          "name": "stdout",
          "output_type": "stream",
          "text": [
            "tf.Tensor([2 3 4 5], shape=(4,), dtype=int64)\n"
          ]
        },
        {
          "data": {
            "text/plain": [
              "array([1, 2, 3, 4, 5], dtype=int32)"
            ]
          },
          "execution_count": 111,
          "metadata": {},
          "output_type": "execute_result"
        }
      ],
      "source": [
        "#numpys\n",
        "\n",
        "\n",
        "\n",
        "L = tf.constant(np.array([2,3,4,5]))\n",
        "\n",
        "\n",
        "print(L)\n",
        "# you can conver numpy arrays tp24\n",
        "np.array(L), L.numpy()\n",
        "\n",
        "\n",
        "ourA = np.arange(1,25, dtype=np.int32)\n",
        "\n",
        "\n",
        "M = tf.constant(np.array([1,2,3,4,5]))\n",
        "\n",
        "#M is a tensor now\n",
        "\n",
        "\n",
        "np.array(M), M.numpy()\n",
        "\n",
        "\n",
        "O = tf.constant([[1,2],\n",
        "                 [3,4]])\n",
        "\n",
        "O.numpy()\n",
        "\n",
        "\n",
        "myn = np.arange(1,25,dtype=np.int32)\n",
        "\n",
        "myn[:5]\n",
        "# O"
      ]
    }
  ],
  "metadata": {
    "colab": {
      "name": "tensorFundamentals1.ipynb",
      "provenance": []
    },
    "kernelspec": {
      "display_name": "Python 3",
      "name": "python3"
    },
    "language_info": {
      "name": "python"
    }
  },
  "nbformat": 4,
  "nbformat_minor": 0
}

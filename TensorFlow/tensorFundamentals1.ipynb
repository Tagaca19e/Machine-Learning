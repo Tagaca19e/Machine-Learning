{
  "nbformat": 4,
  "nbformat_minor": 0,
  "metadata": {
    "colab": {
      "name": "tensorFundamentals1.ipynb",
      "provenance": []
    },
    "kernelspec": {
      "name": "python3",
      "display_name": "Python 3"
    },
    "language_info": {
      "name": "python"
    }
  },
  "cells": [
    {
      "cell_type": "markdown",
      "source": [
        "#hello world2"
      ],
      "metadata": {
        "id": "NdPDFKLYPjPC"
      }
    },
    {
      "cell_type": "markdown",
      "source": [
        "#Table of Contents\n",
        "#Intro to tensors\n",
        "#Information from tensors\n",
        "#Manipulation of tensors\n",
        "#Tensors & NumPy\n",
        "#Using @tf.function -> speeding up regular python functions\n",
        "#Using GPUs wiht TensorFlow \n",
        "#Exercices\n",
        "\n",
        "\n",
        "\"sdfdsfsdfds\"\n"
      ],
      "metadata": {
        "id": "wl5vtUMeP05t"
      }
    },
    {
      "cell_type": "code",
      "source": [
        "import tensorflow as tf\n",
        "import numpy as np\n",
        "#for version for tensorflow tf.__version__\n",
        "tf.__version__\n",
        "\n",
        "\n",
        "#===================\n",
        "\n",
        "\n",
        "#SCALAR = no dimension\n",
        "#tf.constant || numpy.array()\n",
        "scalar = tf.constant(7)\n",
        "\n",
        "hello = np.array(7)\n",
        "\n",
        "scalar2 = tf.constant(hello)\n",
        "\n",
        "scalar2 \n",
        "\n",
        "\n",
        "vector = tf.constant([10,10])\n",
        "\n",
        "\n",
        "\n",
        "\n",
        "#ndim = number of dimensions\n",
        "\n",
        "\n",
        "vector.ndim\n",
        "\n",
        "\n",
        "scalar.shape"
      ],
      "metadata": {
        "colab": {
          "base_uri": "https://localhost:8080/"
        },
        "id": "rk5bDpqfU1iM",
        "outputId": "abf3b82c-8467-4582-f659-a7de66f53581"
      },
      "execution_count": 1,
      "outputs": [
        {
          "output_type": "execute_result",
          "data": {
            "text/plain": [
              "TensorShape([])"
            ]
          },
          "metadata": {},
          "execution_count": 1
        }
      ]
    },
    {
      "cell_type": "code",
      "source": [
        "matrix1 = tf.constant([[1,2],\n",
        "                       [2,3],\n",
        "                       [3,2]])\n",
        "\n",
        "matrix1.shape"
      ],
      "metadata": {
        "colab": {
          "base_uri": "https://localhost:8080/"
        },
        "id": "p-GVAY__oWQ1",
        "outputId": "a4cecf92-1532-445b-ba0e-bb0e85ac0c5a"
      },
      "execution_count": 2,
      "outputs": [
        {
          "output_type": "execute_result",
          "data": {
            "text/plain": [
              "TensorShape([3, 2])"
            ]
          },
          "metadata": {},
          "execution_count": 2
        }
      ]
    },
    {
      "cell_type": "code",
      "source": [
        "matrix2 = tf.constant([[10., 4.], \n",
        "                       [1., 2.],\n",
        "                       [4., 8.]], dtype=tf.float16)\n",
        "\n",
        "matrix2"
      ],
      "metadata": {
        "colab": {
          "base_uri": "https://localhost:8080/"
        },
        "id": "nG5lYfJAm0Bd",
        "outputId": "842788c4-7873-4fb3-a8dc-dc3795c2d425"
      },
      "execution_count": 3,
      "outputs": [
        {
          "output_type": "execute_result",
          "data": {
            "text/plain": [
              "<tf.Tensor: shape=(3, 2), dtype=float16, numpy=\n",
              "array([[10.,  4.],\n",
              "       [ 1.,  2.],\n",
              "       [ 4.,  8.]], dtype=float16)>"
            ]
          },
          "metadata": {},
          "execution_count": 3
        }
      ]
    },
    {
      "cell_type": "code",
      "source": [
        "#increasing the number of dimensions\n",
        "\n",
        "# dim = 3\n",
        "# shape = 2x3x3\n",
        "\n",
        "#*scalar has 0 dimensions\n",
        "#*vector has 1 dimensions\n",
        "#*matrix has 2 dimensions\n",
        "#*tensor has n dimensions"
      ],
      "metadata": {
        "id": "Mfad83kqrsV2"
      },
      "execution_count": 4,
      "outputs": []
    },
    {
      "cell_type": "code",
      "source": [
        "\n",
        "tensor = tf.constant([[[1,2,2],\n",
        "                     [2,2,2],\n",
        "                     [3,3,3]], \n",
        "                    [[1,2,2],\n",
        "                     [2,2,2],\n",
        "                     [3,3,3]]])\n",
        "\n",
        "tensor.shape"
      ],
      "metadata": {
        "colab": {
          "base_uri": "https://localhost:8080/"
        },
        "id": "llSZbgKqpJnH",
        "outputId": "32debce0-013a-4e27-f521-63ccc6318387"
      },
      "execution_count": 5,
      "outputs": [
        {
          "output_type": "execute_result",
          "data": {
            "text/plain": [
              "TensorShape([2, 3, 3])"
            ]
          },
          "metadata": {},
          "execution_count": 5
        }
      ]
    },
    {
      "cell_type": "code",
      "source": [
        "#to change variable for tensors = myTensor.assign(newData)\n",
        "\n",
        "scalarV = tf.Variable(2)\n",
        "\n",
        "scalarC = tf.constant(2)\n",
        "\n",
        "\n",
        "scalarV.assign(9)\n",
        "\n",
        "scalarV, scalarC"
      ],
      "metadata": {
        "colab": {
          "base_uri": "https://localhost:8080/"
        },
        "id": "ae7j7Krhq9es",
        "outputId": "d251f7eb-1158-4530-c0e9-863e9e21d8dc"
      },
      "execution_count": 6,
      "outputs": [
        {
          "output_type": "execute_result",
          "data": {
            "text/plain": [
              "(<tf.Variable 'Variable:0' shape=() dtype=int32, numpy=9>,\n",
              " <tf.Tensor: shape=(), dtype=int32, numpy=2>)"
            ]
          },
          "metadata": {},
          "execution_count": 6
        }
      ]
    },
    {
      "cell_type": "code",
      "source": [
        "#Creating random tensors\n",
        "\n",
        "#not really random since you are spedifying the seed\n",
        "#uniform = no negative numbers\n",
        "#normal = negative and positive numbers\n",
        "rndm = tf.random.Generator.from_seed(10)\n",
        "rndm1 = rndm.normal(shape=(2,2))\n",
        "\n",
        "rndm0 = tf.random.Generator.from_seed(10)\n",
        "rndm2 = rndm0.normal(shape=(2,2))\n",
        "\n",
        "\n",
        "rdm3 = tf.random.normal(shape=(2,2))\n",
        "rndm1, rndm2, rdm3"
      ],
      "metadata": {
        "colab": {
          "base_uri": "https://localhost:8080/"
        },
        "id": "EPlISALCt1q3",
        "outputId": "b553845e-58c4-4910-90fc-c0db44aaa6ea"
      },
      "execution_count": 310,
      "outputs": [
        {
          "output_type": "execute_result",
          "data": {
            "text/plain": [
              "(<tf.Tensor: shape=(2, 2), dtype=float32, numpy=\n",
              " array([[-0.29604465, -0.21134205],\n",
              "        [ 0.01063002,  1.5165398 ]], dtype=float32)>,\n",
              " <tf.Tensor: shape=(2, 2), dtype=float32, numpy=\n",
              " array([[-0.29604465, -0.21134205],\n",
              "        [ 0.01063002,  1.5165398 ]], dtype=float32)>,\n",
              " <tf.Tensor: shape=(2, 2), dtype=float32, numpy=\n",
              " array([[-1.1064562 ,  0.96851546],\n",
              "        [ 1.6931907 ,  2.2043836 ]], dtype=float32)>)"
            ]
          },
          "metadata": {},
          "execution_count": 310
        }
      ]
    },
    {
      "cell_type": "code",
      "source": [
        "#Shuffling the elements inside the tensor\n",
        "#Shuffle does not shuffle one dimensionals \n",
        "#tf.random.set_seed(12) -> not change the random state even after refresh\n",
        "\n",
        "tf.random.set_seed(12)\n",
        "\n",
        "ourTensor = tf.constant([[1,10, 11],\n",
        "                         [4, 99, 52],\n",
        "                         [34, 87, 56]])\n",
        "\n",
        "\n",
        "ourTensor2 = tf.constant([[1,10, 11],\n",
        "                          [4, 99, 52],\n",
        "                          [34, 87, 56]])\n",
        "#if you set it to the same seed the they will be the same no matter what\n",
        "#if the globl and operational are not the same then they will not be the same but will not change after refresh\n",
        "tf.random.shuffle(ourTensor, seed=12), tf.random.shuffle(ourTensor2, seed=12)\n"
      ],
      "metadata": {
        "colab": {
          "base_uri": "https://localhost:8080/"
        },
        "id": "D5UeUmRn5wDy",
        "outputId": "ec725aeb-2d66-4f8c-9788-592b2b6b3b6d"
      },
      "execution_count": 279,
      "outputs": [
        {
          "output_type": "execute_result",
          "data": {
            "text/plain": [
              "(<tf.Tensor: shape=(3, 3), dtype=int32, numpy=\n",
              " array([[34, 87, 56],\n",
              "        [ 4, 99, 52],\n",
              "        [ 1, 10, 11]], dtype=int32)>,\n",
              " <tf.Tensor: shape=(3, 3), dtype=int32, numpy=\n",
              " array([[34, 87, 56],\n",
              "        [ 1, 10, 11],\n",
              "        [ 4, 99, 52]], dtype=int32)>)"
            ]
          },
          "metadata": {},
          "execution_count": 279
        }
      ]
    },
    {
      "cell_type": "code",
      "source": [
        "#random shuffling 1s array\n",
        "\n",
        "d = tf.constant([1,2,3])\n",
        "\n",
        "\n",
        "tf.random.shuffle(d)\n",
        "\n",
        "#changing the data type of the tensor \n",
        "s = tf.Variable([[1,2,3],\n",
        "                 [4,5,6],\n",
        "                 [7,8,9]], dtype=tf.int16)\n",
        "s\n",
        "\n",
        "\n"
      ],
      "metadata": {
        "colab": {
          "base_uri": "https://localhost:8080/"
        },
        "id": "VfFmJqw2A74U",
        "outputId": "ed25e44b-7c24-416c-8231-dbb969b86d75"
      },
      "execution_count": 220,
      "outputs": [
        {
          "output_type": "execute_result",
          "data": {
            "text/plain": [
              "<tf.Variable 'Variable:0' shape=(3, 3) dtype=int32, numpy=\n",
              "array([[1, 2, 3],\n",
              "       [4, 5, 6],\n",
              "       [7, 8, 9]], dtype=int32)>"
            ]
          },
          "metadata": {},
          "execution_count": 220
        }
      ]
    },
    {
      "cell_type": "markdown",
      "source": [
        "Numpy arrays and shaping"
      ],
      "metadata": {
        "id": "J5ksya4MWiyM"
      }
    },
    {
      "cell_type": "code",
      "source": [
        "#We shuffle it so that the model will not be biased\n",
        "#numpy arrays vs tensorflow tensor = tensors are faster to be run on a GPU\n",
        "\n",
        "\n",
        "\n",
        "\n",
        "tf.ones([2,2])\n",
        "\n",
        "tf.zeros([])\n",
        "\n",
        "\n",
        "import numpy as np\n",
        "\n",
        "#capital for a matrix or a tensor and non-capital for a vector\n",
        "\n",
        "npA = np.arange(1, 10,dtype=np.int32)\n",
        "\n",
        "npA\n",
        "\n",
        "\n",
        "\n",
        "newTensor = tf.constant(npA, shape= (3,3))\n",
        "newTensor\n",
        "# tf.reshape(newTensor, [3,3])"
      ],
      "metadata": {
        "colab": {
          "base_uri": "https://localhost:8080/"
        },
        "id": "56TkdsK1D0i3",
        "outputId": "05add02f-a425-4f8d-8d3e-95d1c81e0c12"
      },
      "execution_count": 318,
      "outputs": [
        {
          "output_type": "execute_result",
          "data": {
            "text/plain": [
              "<tf.Tensor: shape=(3, 3), dtype=int32, numpy=\n",
              "array([[1, 2, 3],\n",
              "       [4, 5, 6],\n",
              "       [7, 8, 9]], dtype=int32)>"
            ]
          },
          "metadata": {},
          "execution_count": 318
        }
      ]
    },
    {
      "cell_type": "code",
      "source": [
        ""
      ],
      "metadata": {
        "id": "MH_4i84eXpqG"
      },
      "execution_count": null,
      "outputs": []
    }
  ]
}
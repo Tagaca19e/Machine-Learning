{
  "nbformat": 4,
  "nbformat_minor": 0,
  "metadata": {
    "colab": {
      "name": "neural8i.pynb",
      "provenance": []
    },
    "kernelspec": {
      "name": "python3",
      "display_name": "Python 3"
    },
    "language_info": {
      "name": "python"
    }
  },
  "cells": [
    {
      "cell_type": "code",
      "execution_count": 8,
      "metadata": {
        "colab": {
          "base_uri": "https://localhost:8080/"
        },
        "id": "ZwlJNtNnU4Dq",
        "outputId": "8ef09509-2a91-4943-e351-3de9f9acccbc"
      },
      "outputs": [
        {
          "output_type": "stream",
          "name": "stderr",
          "text": [
            "/usr/local/lib/python3.7/dist-packages/keras/optimizer_v2/adam.py:105: UserWarning: The `lr` argument is deprecated, use `learning_rate` instead.\n",
            "  super(Adam, self).__init__(name, **kwargs)\n"
          ]
        },
        {
          "output_type": "stream",
          "name": "stdout",
          "text": [
            "7/7 [==============================] - 0s 2ms/step - loss: 0.0314 - accuracy: 0.9900\n"
          ]
        },
        {
          "output_type": "execute_result",
          "data": {
            "text/plain": [
              "[0.03143322840332985, 0.9900000095367432]"
            ]
          },
          "metadata": {},
          "execution_count": 8
        }
      ],
      "source": [
        "import tensorflow as tf\n",
        "import pandas as pd\n",
        "from sklearn.model_selection import train_test_split\n",
        "\n",
        "from sklearn.datasets import make_circles\n",
        "\n",
        "n = 1000\n",
        "\n",
        "\n",
        "x, y = make_circles(n, noise = 0.04, random_state = 42)\n",
        "\n",
        "xTrain, xTest, yTrain, yTest = train_test_split(x, y, test_size=0.2)\n",
        "\n",
        "tf.random.set_seed(42)\n",
        "\n",
        "model = tf.keras.Sequential([\n",
        "                             \n",
        "        tf.keras.layers.Dense(4, activation=\"relu\"),\n",
        "        tf.keras.layers.Dense(4, activation=\"relu\"),\n",
        "        tf.keras.layers.Dense(1, activation=\"sigmoid\"),\n",
        "])\n",
        "\n",
        "model.compile(loss=\"binary_crossentropy\",\n",
        "              optimizer = tf.keras.optimizers.Adam(lr=0.01),\n",
        "              metrics=['accuracy'])\n",
        "\n",
        "model.fit(xTrain, yTrain, epochs=100, verbose=0)\n",
        "\n",
        "\n",
        "pred = model.predict(xTest)\n",
        "\n",
        "tf.keras.metrics.mean_absolute_error(y_true = yTest, y_pred = tf.squeeze(pred))\n",
        "\n",
        "model.evaluate(xTest, yTest)"
      ]
    },
    {
      "cell_type": "code",
      "source": [
        "loss, accuracy = model.evaluate(xTest, yTest)\n",
        "\n",
        "print(f\"loss: {loss}, Accuracy: {accuracy * 100}%\")"
      ],
      "metadata": {
        "colab": {
          "base_uri": "https://localhost:8080/"
        },
        "id": "A3VAPD6oXyqT",
        "outputId": "bde1d2c2-674a-40bf-dc88-ef4de170d9b3"
      },
      "execution_count": 10,
      "outputs": [
        {
          "output_type": "stream",
          "name": "stdout",
          "text": [
            "7/7 [==============================] - 0s 2ms/step - loss: 0.0314 - accuracy: 0.9900\n",
            "loss: 0.03143322840332985, Accuracy: 99.00000095367432%\n"
          ]
        }
      ]
    },
    {
      "cell_type": "code",
      "source": [
        "#Y axis -> the true label\n",
        "#X axis -> the predicted label\n",
        "\n",
        "#True positive when true label is 1 and predicted is 1\n",
        "#True negative when true label is 0 and predicted is 0\n",
        "\n",
        "#False positive is when true label is 0 and predicted is 1\n",
        "#False negative is when true label i 1 and predicted is 0\n",
        "\n",
        "from sklearn.metrics import confusion_matrix\n",
        "#we convert our pred into 1's or 0's for us to be able to make a confusion matrix \n",
        "#print(pred)\n",
        "\n",
        "confusion_matrix(yTest, tf.round(pred))\n",
        "\n",
        "\n",
        "\n",
        "\n"
      ],
      "metadata": {
        "colab": {
          "base_uri": "https://localhost:8080/"
        },
        "id": "v1qQ2ABEYi30",
        "outputId": "f5d7d54a-353d-4c0f-93fc-f1832f4ee0b5"
      },
      "execution_count": 16,
      "outputs": [
        {
          "output_type": "execute_result",
          "data": {
            "text/plain": [
              "array([[108,   1],\n",
              "       [  1,  90]])"
            ]
          },
          "metadata": {},
          "execution_count": 16
        }
      ]
    },
    {
      "cell_type": "code",
      "source": [
        "#Visualizing our confusion matrix\n",
        "\n",
        "import itertools\n",
        "import numpy as np\n",
        "import matplotlib.pyplot as plt\n",
        "\n",
        "figsize = (10, 10)\n",
        "\n",
        "\n",
        "cm = confusion_matrix(yTest, tf.round(pred))\n",
        "\n",
        "cm_norm = cm.astype(\"float\") / cm.sum(axis=1) [:, np.newaxis]\n",
        "n_classes = cm.shape[0]\n",
        "\n",
        "\n",
        "fig, ax = plt.subplots(figsize=figsize)\n",
        "\n",
        "cax = ax.matshow(cm, cmap=plt.cm.Blues)\n",
        "\n",
        "fig.colorbar(cax)\n",
        "\n",
        "\n",
        "if classes:\n",
        "  labels = labels\n",
        "else:\n",
        "  labels = np.arange(cm.shape[0])\n",
        "\n",
        "ax.st(title = \"Confusion Matrix\",\n",
        "      xlabel =\"Predicted label\",\n",
        "      ylabel =\"True label \"\n",
        "      xticks = np.arange(n_classes),\n",
        "      yticks = np.arange(n_classes),\n",
        "      xticklabels = labels,\n",
        "      yticklabels = labels\n",
        "      )\n",
        "\n",
        "threshold = (cm.max() + cm.min()) / 2.bit_length\n"
      ],
      "metadata": {
        "colab": {
          "base_uri": "https://localhost:8080/",
          "height": 592
        },
        "id": "sc6x7iaLbAvq",
        "outputId": "f61a1917-2ff5-4535-cc10-33eced0013d4"
      },
      "execution_count": 21,
      "outputs": [
        {
          "output_type": "execute_result",
          "data": {
            "text/plain": [
              "<matplotlib.colorbar.Colorbar at 0x7f2782fe4c10>"
            ]
          },
          "metadata": {},
          "execution_count": 21
        },
        {
          "output_type": "display_data",
          "data": {
            "image/png": "[encoded data removed]",
            "text/plain": [
              "<Figure size 720x720 with 2 Axes>"
            ]
          },
          "metadata": {
            "needs_background": "light"
          }
        }
      ]
    }
  ]
}
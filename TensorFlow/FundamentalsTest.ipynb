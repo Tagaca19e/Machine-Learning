{
  "nbformat": 4,
  "nbformat_minor": 0,
  "metadata": {
    "colab": {
      "name": "FundamentalsTest.ipynb",
      "provenance": []
    },
    "kernelspec": {
      "name": "python3",
      "display_name": "Python 3"
    },
    "language_info": {
      "name": "python"
    }
  },
  "cells": [
    {
      "cell_type": "code",
      "execution_count": 65,
      "metadata": {
        "colab": {
          "base_uri": "https://localhost:8080/"
        },
        "id": "TwiXDblzoeUy",
        "outputId": "2f69c159-413b-41f1-c9f2-a8cd6b42b46a"
      },
      "outputs": [
        {
          "output_type": "execute_result",
          "data": {
            "text/plain": [
              "<tf.Tensor: shape=(5, 5), dtype=float32, numpy=\n",
              "array([[1., 1., 1., 1., 1.],\n",
              "       [1., 1., 1., 1., 1.],\n",
              "       [1., 1., 1., 1., 1.],\n",
              "       [1., 1., 1., 1., 1.],\n",
              "       [1., 1., 1., 1., 1.]], dtype=float32)>"
            ]
          },
          "metadata": {},
          "execution_count": 65
        }
      ],
      "source": [
        "#Creating variables\n",
        "#Changing the variables\n",
        "#Random tensors w/ seed\n",
        "#Shuffling tensors w/ seed\n",
        "#Creating numpy arrays then setting it to tensors\n",
        "#creating tensors wit 0's and 1's\n",
        "\n",
        "\n",
        "import tensorflow as tf\n",
        "import numpy as np\n",
        "con = tf.constant([[2,2],\n",
        "                   [2,2]])\n",
        "\n",
        "#Variable cannot have ndim\n",
        "\n",
        "\n",
        "\n",
        "con.shape\n",
        "\n",
        "var = tf.Variable([[2,2],\n",
        "                   [2,2]])\n",
        "\n",
        "\n",
        "var.assign([[1,2],[6,6]])\n",
        "\n",
        "#cannot add any cols or rows for the assign method\n",
        "\n",
        "main = tf.random.Generator.from_seed(19)\n",
        "\n",
        "ran = main.uniform(shape=(2,2))\n",
        "main2 = tf.random.Generator.from_seed(20)\n",
        "ran2 = tf.random.uniform(shape=(2,2))\n",
        "ran2, ran \n",
        "\n",
        "\n",
        "\n",
        "tf.random.set_seed(10)\n",
        "\n",
        "ourT = tf.constant([[2,1],[0,0]])\n",
        "ourK = tf.constant([[2,1],[0,0]])\n",
        "\n",
        "\n",
        "tf.random.shuffle(ourT, seed=10), tf.random.shuffle(ourK, seed=0)\n",
        "\n",
        "\n",
        "ourA = np.arange(1,25, dtype=np.int32)\n",
        "\n",
        "newT = tf.constant(ourA)\n",
        "\n",
        "gg = tf.reshape(newT, [8,3])\n",
        "\n",
        "\n",
        "\n",
        "z = tf.zeros([5,5])\n",
        "z\n",
        "\n",
        "o = tf.ones([5,5])\n",
        "o"
      ]
    }
  ]
}
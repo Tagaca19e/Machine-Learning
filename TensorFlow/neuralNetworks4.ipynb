{
  "nbformat": 4,
  "nbformat_minor": 0,
  "metadata": {
    "colab": {
      "name": "neuralNetworks4.ipynb",
      "provenance": []
    },
    "kernelspec": {
      "name": "python3",
      "display_name": "Python 3"
    },
    "language_info": {
      "name": "python"
    }
  },
  "cells": [
    {
      "cell_type": "code",
      "execution_count": null,
      "metadata": {
        "id": "5JhaCZhwxsg8"
      },
      "outputs": [],
      "source": [
        "import tensorflow as tf\n",
        "import matplotlib.pyplot as plt\n",
        "\n",
        "X = tf.range(-100, 100, 4)\n",
        "\n",
        "Y = tf.add(X, 10)\n",
        "\n",
        "\n",
        "\n",
        "#model 2 = 2 layers, trained for 100 epochs\n",
        "#model 3 = 2 layers, trained for 500 epochs\n",
        "\n",
        "\n",
        "\n",
        "xTrain = X[:40]\n",
        "\n",
        "xTest = X[40:]\n",
        "\n",
        "yTrain = Y[:40]\n",
        "yTest = Y[40:]\n",
        "\n",
        "\n",
        "model = tf.keras.Sequential([\n",
        "        tf.keras.layers.Dense(1, input_shape=[1])\n",
        "\n",
        "])\n",
        "\n",
        "\n",
        "model2 = tf.keras.Sequential([\n",
        "         tf.keras.layers.Dense(50, activation=None, input_shape=[1]),\n",
        "         tf.keras.layers.Dense(1)\n",
        "])\n",
        "\n",
        "\n",
        "model3 = tf.keras.Sequential([\n",
        "        tf.keras.layers.Dense(50, activation=None, input_shape=[1]),\n",
        "        tf.keras.layers.Dense(1)\n",
        "])\n",
        "\n",
        "def myCompiler(model):\n",
        "  \n",
        "  model.compile(loss = tf.keras.losses.mae,\n",
        "    optimizer = tf.keras.optimizers.Adam(lr=0.01),\n",
        "    metrics = ['mae'])\n",
        "\n",
        "\n",
        " \n",
        "\n",
        "def visualizer(pred):\n",
        "  plt.figure(figsize=(8,7))\n",
        "\n",
        "  plt.scatter(xTrain, yTrain, c=\"b\", label=\"Training Data\")\n",
        "  plt.scatter(xTest, yTest, c=\"g\", label=\"Testing Data\")\n",
        "  plt.scatter(xTest, pred, c=\"red\", label=\"Predicted Data\")\n",
        "\n",
        "\n",
        "def myFitter(myModel, xData, yData, myEpochs, myVerbose=1):\n",
        "  myModel.fit(xData, yData, epochs=myEpochs, verbose=myVerbose)\n",
        "\n",
        "\n",
        "\n",
        "def mae(myYTrue, myPred):\n",
        "  return tf.metrics.mean_absolute_error(y_true = myYTrue, y_pred = tf.squeeze(myPred)).numpy()\n",
        "\n",
        "\n",
        "def mse(myYTrue, myPred):\n",
        "  return tf.metrics.mean_squared_error(y_true = myYTrue, y_pred = tf.squeeze(myPred)).numpy()\n",
        "\n"
      ]
    },
    {
      "cell_type": "code",
      "source": [
        "#compile it\n",
        "#fit it\n",
        "#predict it\n",
        "#visualize it\n",
        "\n",
        "tf.random.set_seed(42)\n",
        "\n",
        "myCompiler(model)\n",
        "\n",
        "myFitter(model, xTrain, yTrain, 100, 0)\n",
        "\n",
        "\n",
        "pred1 = model.predict(xTest)\n",
        "\n",
        "\n",
        "visualizer(pred1)\n",
        "\n",
        "mae1 = mae(yTest, pred1)\n",
        "\n",
        "mse1 = mse(yTest, pred1)\n"
      ],
      "metadata": {
        "colab": {
          "base_uri": "https://localhost:8080/",
          "height": 483
        },
        "id": "Qdd_yxxk55j5",
        "outputId": "9fb07550-299e-4498-9eac-0a534f157391"
      },
      "execution_count": null,
      "outputs": [
        {
          "output_type": "stream",
          "name": "stderr",
          "text": [
            "/usr/local/lib/python3.7/dist-packages/keras/optimizer_v2/adam.py:105: UserWarning: The `lr` argument is deprecated, use `learning_rate` instead.\n",
            "  super(Adam, self).__init__(name, **kwargs)\n"
          ]
        },
        {
          "output_type": "display_data",
          "data": {
            "image/png": "[encoded data removed]",
            "text/plain": [
              "<Figure size 576x504 with 1 Axes>"
            ]
          },
          "metadata": {
            "needs_background": "light"
          }
        }
      ]
    },
    {
      "cell_type": "code",
      "source": [
        "#Model 2\n",
        "\n",
        "tf.random.set_seed(42)\n",
        "\n",
        "myCompiler(model2)\n",
        "\n",
        "\n",
        "myFitter(model2, xTrain, yTrain, 100, 0)\n",
        "\n",
        "pred2 = model2.predict(xTest)\n",
        "\n",
        "visualizer(pred2)\n",
        "\n",
        "mae2 = mae(yTest, pred2) \n",
        "mse2 = mse(yTest, pred2)\n",
        "\n"
      ],
      "metadata": {
        "colab": {
          "base_uri": "https://localhost:8080/",
          "height": 483
        },
        "id": "EYdWPAx_8rAB",
        "outputId": "66b8e648-d7d9-4152-e4ba-f523bdc992ec"
      },
      "execution_count": null,
      "outputs": [
        {
          "output_type": "stream",
          "name": "stderr",
          "text": [
            "/usr/local/lib/python3.7/dist-packages/keras/optimizer_v2/adam.py:105: UserWarning: The `lr` argument is deprecated, use `learning_rate` instead.\n",
            "  super(Adam, self).__init__(name, **kwargs)\n"
          ]
        },
        {
          "output_type": "display_data",
          "data": {
            "image/png": "[encoded data removed]",
            "text/plain": [
              "<Figure size 576x504 with 1 Axes>"
            ]
          },
          "metadata": {
            "needs_background": "light"
          }
        }
      ]
    },
    {
      "cell_type": "code",
      "source": [
        "#Model 3\n",
        "\n",
        "tf.random.set_seed(42)\n",
        "\n",
        "myCompiler(model3)\n",
        "\n",
        "\n",
        "#myModel\n",
        "#X training data\n",
        "#Y training data\n",
        "#Epochs\n",
        "#Verbose\n",
        "myFitter(model3, xTrain, yTrain, 500, 0)\n",
        "\n",
        "pred3 = model3.predict(xTest)\n",
        "\n",
        "visualizer(pred3)\n",
        "\n",
        "mae3 = mae(yTest, pred3)\n",
        "mse3 = mse(yTest, pred3)"
      ],
      "metadata": {
        "colab": {
          "base_uri": "https://localhost:8080/",
          "height": 483
        },
        "id": "0yMProu4BSy7",
        "outputId": "d2b83d60-810b-48aa-e02e-de91ff86e141"
      },
      "execution_count": null,
      "outputs": [
        {
          "output_type": "stream",
          "name": "stderr",
          "text": [
            "/usr/local/lib/python3.7/dist-packages/keras/optimizer_v2/adam.py:105: UserWarning: The `lr` argument is deprecated, use `learning_rate` instead.\n",
            "  super(Adam, self).__init__(name, **kwargs)\n"
          ]
        },
        {
          "output_type": "display_data",
          "data": {
            "image/png": "[encoded data removed]",
            "text/plain": [
              "<Figure size 576x504 with 1 Axes>"
            ]
          },
          "metadata": {
            "needs_background": "light"
          }
        }
      ]
    },
    {
      "cell_type": "code",
      "source": [
        "#comparing the data for our three models\n",
        "\n",
        "import pandas as pd\n",
        "\n",
        "results = [[\"Model-1\", mae1, mse1],\n",
        "           [\"Model-2\", mae2, mse2],\n",
        "           [\"Model-3\", mae3, mse3]]\n",
        "\n",
        "\n",
        "FinalData = pd.DataFrame(results, columns= [\"Model\", \"MAE\", \"MSE\"])\n",
        "\n",
        "FinalData\n"
      ],
      "metadata": {
        "colab": {
          "base_uri": "https://localhost:8080/",
          "height": 143
        },
        "id": "hQ-7adqhGh8-",
        "outputId": "195d5f7b-a6c7-46be-abad-2eff61801814"
      },
      "execution_count": null,
      "outputs": [
        {
          "output_type": "execute_result",
          "data": {
            "text/html": [
              "\n",
              "  <div id=\"df-6e766a30-f318-4347-8147-d6a9f0785b1a\">\n",
              "    <div class=\"colab-df-container\">\n",
              "      <div>\n",
              "<style scoped>\n",
              "    .dataframe tbody tr th:only-of-type {\n",
              "        vertical-align: middle;\n",
              "    }\n",
              "\n",
              "    .dataframe tbody tr th {\n",
              "        vertical-align: top;\n",
              "    }\n",
              "\n",
              "    .dataframe thead th {\n",
              "        text-align: right;\n",
              "    }\n",
              "</style>\n",
              "<table border=\"1\" class=\"dataframe\">\n",
              "  <thead>\n",
              "    <tr style=\"text-align: right;\">\n",
              "      <th></th>\n",
              "      <th>Model</th>\n",
              "      <th>MAE</th>\n",
              "      <th>MSE</th>\n",
              "    </tr>\n",
              "  </thead>\n",
              "  <tbody>\n",
              "    <tr>\n",
              "      <th>0</th>\n",
              "      <td>Model-1</td>\n",
              "      <td>11.410288</td>\n",
              "      <td>130.817184</td>\n",
              "    </tr>\n",
              "    <tr>\n",
              "      <th>1</th>\n",
              "      <td>Model-2</td>\n",
              "      <td>0.984412</td>\n",
              "      <td>0.986979</td>\n",
              "    </tr>\n",
              "    <tr>\n",
              "      <th>2</th>\n",
              "      <td>Model-3</td>\n",
              "      <td>0.857654</td>\n",
              "      <td>0.753150</td>\n",
              "    </tr>\n",
              "  </tbody>\n",
              "</table>\n",
              "</div>\n",
              "      <button class=\"colab-df-convert\" onclick=\"convertToInteractive('df-6e766a30-f318-4347-8147-d6a9f0785b1a')\"\n",
              "              title=\"Convert this dataframe to an interactive table.\"\n",
              "              style=\"display:none;\">\n",
              "        \n",
              "  <svg xmlns=\"http://www.w3.org/2000/svg\" height=\"24px\"viewBox=\"0 0 24 24\"\n",
              "       width=\"24px\">\n",
              "    <path d=\"M0 0h24v24H0V0z\" fill=\"none\"/>\n",
              "    <path d=\"M18.56 5.44l.94 2.06.94-2.06 2.06-.94-2.06-.94-.94-2.06-.94 2.06-2.06.94zm-11 1L8.5 8.5l.94-2.06 2.06-.94-2.06-.94L8.5 2.5l-.94 2.06-2.06.94zm10 10l.94 2.06.94-2.06 2.06-.94-2.06-.94-.94-2.06-.94 2.06-2.06.94z\"/><path d=\"M17.41 7.96l-1.37-1.37c-.4-.4-.92-.59-1.43-.59-.52 0-1.04.2-1.43.59L10.3 9.45l-7.72 7.72c-.78.78-.78 2.05 0 2.83L4 21.41c.39.39.9.59 1.41.59.51 0 1.02-.2 1.41-.59l7.78-7.78 2.81-2.81c.8-.78.8-2.07 0-2.86zM5.41 20L4 18.59l7.72-7.72 1.47 1.35L5.41 20z\"/>\n",
              "  </svg>\n",
              "      </button>\n",
              "      \n",
              "  <style>\n",
              "    .colab-df-container {\n",
              "      display:flex;\n",
              "      flex-wrap:wrap;\n",
              "      gap: 12px;\n",
              "    }\n",
              "\n",
              "    .colab-df-convert {\n",
              "      background-color: #E8F0FE;\n",
              "      border: none;\n",
              "      border-radius: 50%;\n",
              "      cursor: pointer;\n",
              "      display: none;\n",
              "      fill: #1967D2;\n",
              "      height: 32px;\n",
              "      padding: 0 0 0 0;\n",
              "      width: 32px;\n",
              "    }\n",
              "\n",
              "    .colab-df-convert:hover {\n",
              "      background-color: #E2EBFA;\n",
              "      box-shadow: 0px 1px 2px rgba(60, 64, 67, 0.3), 0px 1px 3px 1px rgba(60, 64, 67, 0.15);\n",
              "      fill: #174EA6;\n",
              "    }\n",
              "\n",
              "    [theme=dark] .colab-df-convert {\n",
              "      background-color: #3B4455;\n",
              "      fill: #D2E3FC;\n",
              "    }\n",
              "\n",
              "    [theme=dark] .colab-df-convert:hover {\n",
              "      background-color: #434B5C;\n",
              "      box-shadow: 0px 1px 3px 1px rgba(0, 0, 0, 0.15);\n",
              "      filter: drop-shadow(0px 1px 2px rgba(0, 0, 0, 0.3));\n",
              "      fill: #FFFFFF;\n",
              "    }\n",
              "  </style>\n",
              "\n",
              "      <script>\n",
              "        const buttonEl =\n",
              "          document.querySelector('#df-6e766a30-f318-4347-8147-d6a9f0785b1a button.colab-df-convert');\n",
              "        buttonEl.style.display =\n",
              "          google.colab.kernel.accessAllowed ? 'block' : 'none';\n",
              "\n",
              "        async function convertToInteractive(key) {\n",
              "          const element = document.querySelector('#df-6e766a30-f318-4347-8147-d6a9f0785b1a');\n",
              "          const dataTable =\n",
              "            await google.colab.kernel.invokeFunction('convertToInteractive',\n",
              "                                                     [key], {});\n",
              "          if (!dataTable) return;\n",
              "\n",
              "          const docLinkHtml = 'Like what you see? Visit the ' +\n",
              "            '<a target=\"_blank\" href=https://colab.research.google.com/notebooks/data_table.ipynb>data table notebook</a>'\n",
              "            + ' to learn more about interactive tables.';\n",
              "          element.innerHTML = '';\n",
              "          dataTable['output_type'] = 'display_data';\n",
              "          await google.colab.output.renderOutput(dataTable, element);\n",
              "          const docLink = document.createElement('div');\n",
              "          docLink.innerHTML = docLinkHtml;\n",
              "          element.appendChild(docLink);\n",
              "        }\n",
              "      </script>\n",
              "    </div>\n",
              "  </div>\n",
              "  "
            ],
            "text/plain": [
              "     Model        MAE         MSE\n",
              "0  Model-1  11.410288  130.817184\n",
              "1  Model-2   0.984412    0.986979\n",
              "2  Model-3   0.857654    0.753150"
            ]
          },
          "metadata": {},
          "execution_count": 72
        }
      ]
    },
    {
      "cell_type": "code",
      "source": [
        "model3.save(\"Model-2-V1\")\n",
        "\n",
        "\n",
        "model3.save(\"Model-2-V2.h5\")"
      ],
      "metadata": {
        "colab": {
          "base_uri": "https://localhost:8080/"
        },
        "id": "qKwwAs-PLsRn",
        "outputId": "a05ead89-6cac-44aa-d562-b40bb375c536"
      },
      "execution_count": null,
      "outputs": [
        {
          "output_type": "stream",
          "name": "stdout",
          "text": [
            "INFO:tensorflow:Assets written to: Model-2-V1/assets\n"
          ]
        }
      ]
    },
    {
      "cell_type": "code",
      "source": [
        "saved = tf.keras.models.load_model(\"Model-2-V1\")\n",
        "\n",
        "saved.summary(), model3.summary()"
      ],
      "metadata": {
        "colab": {
          "base_uri": "https://localhost:8080/"
        },
        "id": "QIubi7KtNSBl",
        "outputId": "69be56fd-219b-4a6c-81d4-7244da1a5601"
      },
      "execution_count": null,
      "outputs": [
        {
          "output_type": "stream",
          "name": "stdout",
          "text": [
            "Model: \"sequential_45\"\n",
            "_________________________________________________________________\n",
            " Layer (type)                Output Shape              Param #   \n",
            "=================================================================\n",
            " dense_75 (Dense)            (None, 50)                100       \n",
            "                                                                 \n",
            " dense_76 (Dense)            (None, 1)                 51        \n",
            "                                                                 \n",
            "=================================================================\n",
            "Total params: 151\n",
            "Trainable params: 151\n",
            "Non-trainable params: 0\n",
            "_________________________________________________________________\n",
            "Model: \"sequential_45\"\n",
            "_________________________________________________________________\n",
            " Layer (type)                Output Shape              Param #   \n",
            "=================================================================\n",
            " dense_75 (Dense)            (None, 50)                100       \n",
            "                                                                 \n",
            " dense_76 (Dense)            (None, 1)                 51        \n",
            "                                                                 \n",
            "=================================================================\n",
            "Total params: 151\n",
            "Trainable params: 151\n",
            "Non-trainable params: 0\n",
            "_________________________________________________________________\n"
          ]
        },
        {
          "output_type": "execute_result",
          "data": {
            "text/plain": [
              "(None, None)"
            ]
          },
          "metadata": {},
          "execution_count": 76
        }
      ]
    },
    {
      "cell_type": "code",
      "source": [
        "#comparing values to make sure the saved model is the same as the original\n",
        "\n",
        "f = saved.predict(xTest)\n",
        "f1 =  model3.predict(xTest)\n",
        "\n",
        "f == f1\n",
        "\n",
        "h5saved = tf.keras.models.load_model(\"Model-2-V2.h5\")\n",
        "\n",
        "# h5saved.summary(), model3.summary()\n",
        "\n",
        "\n",
        "h5saved.predict(xTest) == model3.predict(xTest)"
      ],
      "metadata": {
        "colab": {
          "base_uri": "https://localhost:8080/"
        },
        "id": "zglCZFNENgUu",
        "outputId": "a0fb6600-c390-44a6-c8e7-79559808bb7c"
      },
      "execution_count": null,
      "outputs": [
        {
          "output_type": "execute_result",
          "data": {
            "text/plain": [
              "array([[ True],\n",
              "       [ True],\n",
              "       [ True],\n",
              "       [ True],\n",
              "       [ True],\n",
              "       [ True],\n",
              "       [ True],\n",
              "       [ True],\n",
              "       [ True],\n",
              "       [ True]])"
            ]
          },
          "metadata": {},
          "execution_count": 82
        }
      ]
    },
    {
      "cell_type": "code",
      "source": [
        "#Downloading files from google colab using the code\n",
        "\n",
        "\n",
        "from google.colab import files\n",
        "\n",
        "\n",
        "files.download(\"/content/Model-2-V2.h5\")"
      ],
      "metadata": {
        "colab": {
          "base_uri": "https://localhost:8080/",
          "height": 17
        },
        "id": "bzmHdAXCQqYT",
        "outputId": "4c810530-968d-4ab2-8b07-d36f711daf9c"
      },
      "execution_count": null,
      "outputs": [
        {
          "output_type": "display_data",
          "data": {
            "application/javascript": [
              "\n",
              "    async function download(id, filename, size) {\n",
              "      if (!google.colab.kernel.accessAllowed) {\n",
              "        return;\n",
              "      }\n",
              "      const div = document.createElement('div');\n",
              "      const label = document.createElement('label');\n",
              "      label.textContent = `Downloading \"${filename}\": `;\n",
              "      div.appendChild(label);\n",
              "      const progress = document.createElement('progress');\n",
              "      progress.max = size;\n",
              "      div.appendChild(progress);\n",
              "      document.body.appendChild(div);\n",
              "\n",
              "      const buffers = [];\n",
              "      let downloaded = 0;\n",
              "\n",
              "      const channel = await google.colab.kernel.comms.open(id);\n",
              "      // Send a message to notify the kernel that we're ready.\n",
              "      channel.send({})\n",
              "\n",
              "      for await (const message of channel.messages) {\n",
              "        // Send a message to notify the kernel that we're ready.\n",
              "        channel.send({})\n",
              "        if (message.buffers) {\n",
              "          for (const buffer of message.buffers) {\n",
              "            buffers.push(buffer);\n",
              "            downloaded += buffer.byteLength;\n",
              "            progress.value = downloaded;\n",
              "          }\n",
              "        }\n",
              "      }\n",
              "      const blob = new Blob(buffers, {type: 'application/binary'});\n",
              "      const a = document.createElement('a');\n",
              "      a.href = window.URL.createObjectURL(blob);\n",
              "      a.download = filename;\n",
              "      div.appendChild(a);\n",
              "      a.click();\n",
              "      div.remove();\n",
              "    }\n",
              "  "
            ],
            "text/plain": [
              "<IPython.core.display.Javascript object>"
            ]
          },
          "metadata": {}
        },
        {
          "output_type": "display_data",
          "data": {
            "application/javascript": [
              "download(\"download_9881690a-fe84-403d-a396-003069dec103\", \"Model-2-V2.h5\", 26368)"
            ],
            "text/plain": [
              "<IPython.core.display.Javascript object>"
            ]
          },
          "metadata": {}
        }
      ]
    },
    {
      "cell_type": "markdown",
      "source": [
        "# New Section"
      ],
      "metadata": {
        "id": "QPgrz73xL1cY"
      }
    }
  ]
}